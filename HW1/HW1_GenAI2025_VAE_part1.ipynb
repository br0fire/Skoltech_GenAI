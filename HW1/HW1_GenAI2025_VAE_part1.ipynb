{
 "cells": [
  {
   "cell_type": "markdown",
   "id": "02b8dd44",
   "metadata": {
    "id": "02b8dd44"
   },
   "source": [
    "# **Home Assignment 1**\n",
    "**Objective:** Implement and analyze different generative models for image generation and translation.  \n",
    "\n",
    "## **General Instructions**  \n",
    "✅ **Code Implementation:**  \n",
    "- Write code in the specified notebook cells.  \n",
    "- Use **built-in methods** from libraries (e.g., `sklearn`, `PyTorch`) instead of reinventing the wheel.  \n",
    "- Ensure reproducibility by fixing random seeds (e.g., `random_state=42`).  \n",
    "\n",
    "📝 **Discussion & Reporting:**  \n",
    "- Add a **Markdown cell** after each task to discuss results (if required).  \n",
    "- Keep explanations concise.  \n",
    "\n",
    "⚠ **Grading Policy**  \n",
    "- **All-or-nothing scoring** – Full points or zero for each subtask (no partial credit).  \n",
    "- **Mandatory reproducibility** – Reviewers must obtain identical results when rerunning your notebook.  \n",
    "- **Output preservation required** – TAs will not rerun notebooks unless potential fraud is detected.  \n",
    "\n",
    "🔍 **Allowed Resources:**  \n",
    "- Official docs: [Python](https://docs.python.org/3/), [NumPy](https://numpy.org/doc/), [Matplotlib](https://matplotlib.org/), [scikit-learn](https://scikit-learn.org/stable/).  \n",
    "- External help: Lecture slides, seminars, Google, StackOverflow.  \n",
    "\n",
    "---\n",
    "\n",
    "### **Final Checklist**  \n",
    "✔ All code is **well-commented** and reproducible.  \n",
    "✔ Discussions are included where required.  \n",
    "✔ Notebook runs **end-to-end without errors**.  \n",
    "\n",
    "**Tip:** Use section headers (like above) in your notebook to improve readability.  \n",
    "\n",
    "---\n",
    "\n",
    "# **Part 1: VAEs with Non-Gaussian Decoders (20 points)**  \n",
    "\n",
    "To begin with, let's import the essential (for this assignment) libraries."
   ]
  },
  {
   "cell_type": "code",
   "execution_count": 1,
   "id": "37e4c357",
   "metadata": {
    "id": "37e4c357"
   },
   "outputs": [],
   "source": [
    "import random\n",
    "from functools import partial\n",
    "from itertools import chain\n",
    "from typing import Callable\n",
    "\n",
    "import matplotlib.pyplot as plt\n",
    "import numpy as np\n",
    "import torch\n",
    "import torch.nn as nn\n",
    "import torch.optim as optim\n",
    "import torchvision\n",
    "from torch.distributions import Bernoulli, Categorical, Independent, Normal\n",
    "from torch.utils.data import DataLoader\n",
    "from torchvision import transforms\n",
    "from tqdm.notebook import tqdm\n",
    "\n",
    "%matplotlib inline"
   ]
  },
  {
   "cell_type": "code",
   "execution_count": 2,
   "id": "86af70f6",
   "metadata": {
    "id": "86af70f6"
   },
   "outputs": [
    {
     "data": {
      "text/plain": [
       "device(type='cuda', index=0)"
      ]
     },
     "execution_count": 2,
     "metadata": {},
     "output_type": "execute_result"
    }
   ],
   "source": [
    "DEVICE = torch.device(f\"cuda:{torch.cuda.current_device()}\" if torch.cuda.is_available() else \"cpu\")\n",
    "DEVICE"
   ]
  },
  {
   "cell_type": "code",
   "execution_count": 3,
   "id": "b3d2d4c3",
   "metadata": {},
   "outputs": [],
   "source": [
    "# Fix PyTorch seeds\n",
    "torch.manual_seed(42)  # CPU\n",
    "if torch.cuda.is_available():\n",
    "    torch.cuda.manual_seed(42)  # GPU\n",
    "\n",
    "# Fix NumPy seed\n",
    "np.random.seed(42)\n",
    "\n",
    "# Fix Python's built-in random seed\n",
    "random.seed(42)"
   ]
  },
  {
   "cell_type": "markdown",
   "id": "b1d613f9",
   "metadata": {},
   "source": [
    "## Task 1: VAE with Bernoulli Decoder (15 pts)\n",
    "**Objective**: Implement a VAE where the decoder models pixel values as **Bernoulli-distributed** and examine its properties.\n",
    "\n",
    "### Distribution Choice\n",
    "In **Seminar 2**, we assumed a *Gaussian* decoder:  \n",
    "$$\n",
    "{\\color{blue}p_\\theta}(x|z) = \\mathcal{N}(x \\mid {\\color{blue}\\mu_\\theta}(z), \\sigma^2) \\quad \\text{(for continuous data)}.  \n",
    "$$  \n",
    "\n",
    "For **MNIST** (binary-like pixels), a **Bernoulli decoder** is more appropriate:  \n",
    "- Each pixel is binary: `0` (black) or `1` (white).  \n",
    "- The decoder outputs **logits** (unbounded values), which are transformed into probabilities $p_i \\in [0,1]$ via the sigmoid function.  \n",
    "- Likelihood:  \n",
    "$$\n",
    "{\\color{blue}p_\\theta}(x|z) = \\prod_{i=1}^D \\left( {\\color{blue}p_\\theta}(z)_i^{x_i} (1 - {\\color{blue}p_\\theta}(z)_i)^{1-x_i} \\right),  \n",
    "$$  \n",
    "where $D = \\text{image dimensions (e.g., } 28 \\times 28)$.  \n",
    "\n",
    "**Note**: The decoder returns **logits**, which are transformed into probabilities (you need to understand in which way) for the Bernoulli likelihood."
   ]
  },
  {
   "cell_type": "markdown",
   "id": "4d45e41e",
   "metadata": {
    "id": "4d45e41e"
   },
   "source": [
    "### 1.1 Data Preparation\n",
    "\n",
    "We download MNIST data for this experiment and divide it into train and test subsets."
   ]
  },
  {
   "cell_type": "code",
   "execution_count": 4,
   "id": "d6e859fe",
   "metadata": {
    "id": "d6e859fe",
    "outputId": "5ffe2e43-170a-4ffd-add2-32852909e4b9",
    "scrolled": true
   },
   "outputs": [],
   "source": [
    "# transform\n",
    "transform = transforms.Compose([transforms.ToTensor()])\n",
    "\n",
    "# train dataset\n",
    "train_dataset = torchvision.datasets.MNIST(root=\".\", train=True, download=True, transform=transform)\n",
    "\n",
    "# Test dataset\n",
    "test_dataset = torchvision.datasets.MNIST(root=\".\", train=False, transform=transform)"
   ]
  },
  {
   "cell_type": "markdown",
   "id": "706056bf",
   "metadata": {
    "id": "706056bf"
   },
   "source": [
    "### 1.2 Encoder and Decoder Architecture (2 points)\n",
    "\n",
    "Initialize networks for the encoder and decoder. Choose dimensions for latent and data spaces, then implement appropriate architectures for both."
   ]
  },
  {
   "cell_type": "code",
   "execution_count": 5,
   "id": "cf0aa952",
   "metadata": {
    "id": "cf0aa952"
   },
   "outputs": [],
   "source": [
    "# YOU CODE HERE\n",
    "\n",
    "LATENT_DIM = 20  # dimension of latent space\n",
    "HIDDEN_DIM = 400   # dimensions of intermediate representations.\n",
    "DATA_DIM = 784  # dimension of data space"
   ]
  },
  {
   "cell_type": "code",
   "execution_count": 6,
   "id": "f63a12b1",
   "metadata": {},
   "outputs": [],
   "source": [
    "class Encoder(nn.Module):\n",
    "    def __init__(self, data_dim: int = DATA_DIM, hidden_dim: int = HIDDEN_DIM, latent_dim: int = LATENT_DIM):\n",
    "        super(Encoder, self).__init__()\n",
    "        self.mean_net = nn.Sequential(\n",
    "            nn.Linear(data_dim, hidden_dim),\n",
    "            nn.ReLU(),\n",
    "            nn.Linear(hidden_dim, latent_dim)\n",
    "        )\n",
    "        self.log_var_net = nn.Sequential(\n",
    "            nn.Linear(data_dim, hidden_dim),\n",
    "            nn.ReLU(),\n",
    "            nn.Linear(hidden_dim, latent_dim)\n",
    "        )\n",
    "\n",
    "    def forward(self, x: torch.Tensor) -> tuple[torch.Tensor, torch.Tensor]:\n",
    "        mean = self.mean_net(x)\n",
    "        log_var = self.log_var_net(x)\n",
    "        return mean, log_var"
   ]
  },
  {
   "cell_type": "code",
   "execution_count": 7,
   "id": "e64d2408",
   "metadata": {},
   "outputs": [],
   "source": [
    "class BernoulliDecoder(nn.Module):\n",
    "    def __init__(self, data_dim: int = DATA_DIM, latent_dim: int = LATENT_DIM, hidden_dim: int = HIDDEN_DIM):\n",
    "        super(BernoulliDecoder, self).__init__()\n",
    "        self.net = nn.Sequential(\n",
    "            nn.Linear(latent_dim, hidden_dim),\n",
    "            nn.ReLU(),\n",
    "            nn.Linear(hidden_dim, data_dim)\n",
    "        )\n",
    "\n",
    "    def forward(self, z: torch.Tensor) -> torch.Tensor:\n",
    "        logits = self.net(z)\n",
    "        return logits # outputs logits for Bernoulli distribution"
   ]
  },
  {
   "cell_type": "markdown",
   "id": "b3890875",
   "metadata": {
    "id": "b3890875"
   },
   "source": [
    "### 1.3 Loss Helpers (2 points)\n",
    "\n",
    "Implement helper functions for the VAE loss. Review the loss function structure below to understand each component's purpose."
   ]
  },
  {
   "cell_type": "code",
   "execution_count": 8,
   "id": "49f104cd",
   "metadata": {},
   "outputs": [],
   "source": [
    "def preprocess_x_bernoulli(x: torch.Tensor) -> torch.Tensor:\n",
    "    \"\"\"\n",
    "    Preprocess input tensor for a Bernoulli decoder by binarizing values.\n",
    "\n",
    "    Args:\n",
    "        x: Input tensor with values in [0, 1]\n",
    "\n",
    "    Returns:\n",
    "        Binarized tensor (values 0 or 1)\n",
    "    \"\"\"\n",
    "    return torch.bernoulli(x)"
   ]
  },
  {
   "cell_type": "code",
   "execution_count": 9,
   "id": "4f3a87a2",
   "metadata": {},
   "outputs": [],
   "source": [
    "def px_z_bernoulli(logits: torch.Tensor) -> torch.distributions.Distribution:\n",
    "    \"\"\"\n",
    "    Define the likelihood distribution p(x|z) using a Bernoulli distribution.\n",
    "\n",
    "    Args:\n",
    "        logits: Output from the decoder representing Bernoulli logits\n",
    "\n",
    "    Returns:\n",
    "        A Bernoulli distribution with independent dimensions\n",
    "    \"\"\"\n",
    "    return Independent(Bernoulli(logits=logits), reinterpreted_batch_ndims=1)"
   ]
  },
  {
   "cell_type": "markdown",
   "id": "e3d25dfd",
   "metadata": {},
   "source": [
    "The function below will be used for data *visualization*, but not in loss function."
   ]
  },
  {
   "cell_type": "code",
   "execution_count": 10,
   "id": "81585d8d",
   "metadata": {},
   "outputs": [],
   "source": [
    "def logits_to_pixels_bernoulli(logits: torch.Tensor) -> torch.Tensor:\n",
    "    \"\"\"\n",
    "    Convert decoder logits to pixel values of the most probable class from the Bernoulli distribution.\n",
    "    \n",
    "    Args:\n",
    "        logits: Unbounded output tensor from the decoder network\n",
    "               Shape: [batch_size, data_dim]\n",
    "               \n",
    "    Returns:\n",
    "        Tensor of pixel probabilities in range [0, 1] with same shape as input\n",
    "    \"\"\"\n",
    "    return torch.sigmoid(logits)"
   ]
  },
  {
   "cell_type": "markdown",
   "id": "8ff84118",
   "metadata": {},
   "source": [
    "### 1.4 VAE Loss function (5 points)\n",
    "\n",
    "Implement general-purpose loss function for the VAE that will later be used also for more general Categorical Decoder."
   ]
  },
  {
   "cell_type": "code",
   "execution_count": 11,
   "id": "611e30e7",
   "metadata": {
    "id": "611e30e7"
   },
   "outputs": [],
   "source": [
    "def loss_vae(\n",
    "    x: torch.Tensor,\n",
    "    encoder: nn.Module,\n",
    "    decoder: nn.Module,\n",
    "    preprocess_x: Callable[[torch.Tensor], torch.Tensor],\n",
    "    px_z: Callable[[torch.Tensor], torch.distributions.Distribution],\n",
    "    latent_dim: int = LATENT_DIM,\n",
    "    device: torch.device = DEVICE,\n",
    ") -> tuple[torch.Tensor, torch.Tensor]:\n",
    "    \"\"\"\n",
    "    Compute the VAE loss (negative ELBO) and decoder output for a minibatch.\n",
    "\n",
    "    Args:\n",
    "        x: Input tensor of shape (batch_size, ...)\n",
    "        encoder: Encoder network that outputs tuple (mu, log_var)\n",
    "        decoder: Decoder network that takes latent vector and returns logits\n",
    "        preprocess_x: Function to preprocess x before computing likelihood\n",
    "        px_z: Function that returns a likelihood distribution p(x|z)\n",
    "        latent_dim: Dimension of latent space\n",
    "        device: Target device (cuda/cpu)\n",
    "\n",
    "    Returns:\n",
    "        Tuple containing:\n",
    "        - Total VAE loss (scalar tensor)\n",
    "        - Decoder output tensor (logits)\n",
    "    \"\"\"\n",
    "    batch_size = x.size(0)\n",
    "\n",
    "    # Encoder outputs parameters for q(z|x)\n",
    "    mu_z, log_var_z = encoder(x)\n",
    "    \n",
    "    # Prior p(z) ~ N(0, I)\n",
    "    pz = Independent(\n",
    "        Normal(\n",
    "            loc=torch.zeros(batch_size, latent_dim, device=device),\n",
    "            scale=torch.ones(batch_size, latent_dim, device=device),\n",
    "        ),\n",
    "        reinterpreted_batch_ndims=1,\n",
    "    )\n",
    "\n",
    "    # Posterior q(z|x) ~ N(mu_z, diag(exp(log_var_z)))\n",
    "    qz_x = Independent(\n",
    "        Normal(loc=mu_z, scale=torch.exp(0.5 * log_var_z)), # YOU CODE HERE\n",
    "        reinterpreted_batch_ndims=1,\n",
    "    )\n",
    "\n",
    "    # Reparameterization trick to sample z\n",
    "    z = mu_z + torch.exp(0.5 * log_var_z) * torch.randn_like(mu_z)\n",
    "\n",
    "    # Decode to get logits for p(x|z)\n",
    "    decoder_output = decoder(z)\n",
    "\n",
    "\n",
    "    # Preprocess input and compute reconstruction loss\n",
    "    x_target = preprocess_x(x)\n",
    "    recon_loss = -px_z(decoder_output).log_prob(x_target).mean()\n",
    "\n",
    "    # KL divergence between q(z|x) and p(z)\n",
    "    kl_div = torch.distributions.kl.kl_divergence(qz_x, pz).mean()\n",
    "\n",
    "    # Total loss = reconstruction + KL divergence\n",
    "    loss = recon_loss + kl_div\n",
    "\n",
    "    return loss, decoder_output"
   ]
  },
  {
   "cell_type": "code",
   "execution_count": 12,
   "id": "1503939c",
   "metadata": {},
   "outputs": [],
   "source": [
    "loss_vae_bernoulli = partial(\n",
    "    loss_vae,\n",
    "    preprocess_x=preprocess_x_bernoulli,\n",
    "    px_z=px_z_bernoulli\n",
    ")"
   ]
  },
  {
   "cell_type": "markdown",
   "id": "7a58e170",
   "metadata": {
    "id": "7a58e170"
   },
   "source": [
    "### 1.5 Training and Selecting Hyperparameters (1 point)\n",
    "\n",
    "Fill gaps in training function and select hyperparameters for training."
   ]
  },
  {
   "cell_type": "code",
   "execution_count": 13,
   "id": "55a69d2a",
   "metadata": {},
   "outputs": [],
   "source": [
    "def train_model(\n",
    "    loss_fn: Callable[[torch.Tensor, nn.Module, nn.Module], tuple[torch.Tensor, torch.Tensor]],\n",
    "    encoder: nn.Module,\n",
    "    decoder: nn.Module,\n",
    "    train_dataset: torch.utils.data.Dataset,\n",
    "    test_dataset: torch.utils.data.Dataset,\n",
    "    batch_size: int,\n",
    "    num_epochs: int,\n",
    "    learning_rate: float,\n",
    "    data_dim: int = DATA_DIM,\n",
    "    device: torch.device = DEVICE,\n",
    "    print_freq: int = 10,\n",
    ") -> tuple[list[float], list[float]]:\n",
    "    \"\"\"     \n",
    "    Train a VAE model with tqdm progress monitoring.\n",
    "    \n",
    "    Args:\n",
    "        loss_fn: Function that computes (loss, reconstruction)\n",
    "        encoder: VAE encoder network\n",
    "        decoder: VAE decoder network\n",
    "        train_dataset: Training dataset\n",
    "        test_dataset: Validation dataset\n",
    "        batch_size: Size of mini-batches\n",
    "        num_epochs: Number of training epochs\n",
    "        learning_rate: Adam optimizer learning rate\n",
    "        latent_dim: Dimension of data space\n",
    "        device: Target device (cuda/cpu)\n",
    "        print_freq: Batch frequency for logging\n",
    "        \n",
    "    Returns:\n",
    "        Tuple of (train_loss_history, val_loss_history)\n",
    "    \"\"\"\n",
    "    # Initialize optimizer\n",
    "    optimizer = optim.Adam(\n",
    "        chain(encoder.parameters(), decoder.parameters()),\n",
    "        lr=learning_rate\n",
    "    )\n",
    "    \n",
    "    train_losses = []\n",
    "    val_losses = []\n",
    "    \n",
    "    # Create data loaders\n",
    "    train_loader = DataLoader(train_dataset, batch_size=batch_size, shuffle=True)\n",
    "    test_loader = DataLoader(test_dataset, batch_size=batch_size, shuffle=False)\n",
    "    \n",
    "    # Main training loop with tqdm\n",
    "    encoder.to(device)\n",
    "    decoder.to(device)\n",
    "    for epoch in tqdm(range(num_epochs), desc=\"Epochs\", unit=\"epoch\"):\n",
    "        encoder.train()\n",
    "        decoder.train()\n",
    "        \n",
    "        # Batch progress bar\n",
    "        batch_loop = tqdm(train_loader, leave=False, desc=f\"Epoch {epoch+1}\")\n",
    "        for batch_idx, (batch, _) in enumerate(batch_loop):\n",
    "            batch = batch.view(-1, data_dim).to(device)\n",
    "            \n",
    "            # Forward/backward pass\n",
    "            loss, _ = loss_fn(batch, encoder, decoder)\n",
    "            \n",
    "            optimizer.zero_grad()\n",
    "            loss.backward()\n",
    "            optimizer.step()\n",
    "            \n",
    "            # Logging\n",
    "            train_losses.append(loss.item())\n",
    "            if (batch_idx + 1) % print_freq == 0:\n",
    "                batch_loop.set_postfix(loss=f\"{loss.item():.4f}\")\n",
    "        \n",
    "        # Validation phase\n",
    "        encoder.eval()\n",
    "        decoder.eval()\n",
    "        val_loss = 0.0\n",
    "        with torch.no_grad():\n",
    "            for batch, _ in test_loader:\n",
    "                batch = batch.view(-1, data_dim).to(device)\n",
    "                loss, _ = loss_fn(batch, encoder, decoder)\n",
    "                val_loss += loss.item()\n",
    "        \n",
    "        val_loss /= len(test_loader)\n",
    "        val_losses.append(val_loss)\n",
    "        \n",
    "        # Update epoch progress\n",
    "        tqdm.write(f\"Epoch {epoch+1} - Train Loss: {train_losses[-1]:.4f} | Val Loss: {val_loss:.4f}\")\n",
    "    \n",
    "    return train_losses, val_losses"
   ]
  },
  {
   "cell_type": "code",
   "execution_count": 14,
   "id": "c7f71bce",
   "metadata": {
    "id": "c7f71bce"
   },
   "outputs": [],
   "source": [
    "# Choose appropriate hyperparameters\n",
    "\n",
    "BATCH_SIZE = 128  # YOU CODE HERE\n",
    "NUM_EPOCHS = 20  # YOU CODE HERE\n",
    "LR = 1e-2  # YOU CODE HERE"
   ]
  },
  {
   "cell_type": "code",
   "execution_count": 15,
   "id": "31a4b1b4",
   "metadata": {},
   "outputs": [],
   "source": [
    "encoder_bernoulli = Encoder()\n",
    "decoder_bernoulli = BernoulliDecoder()"
   ]
  },
  {
   "cell_type": "code",
   "execution_count": 16,
   "id": "e360ebd4",
   "metadata": {
    "id": "e360ebd4"
   },
   "outputs": [
    {
     "data": {
      "application/vnd.jupyter.widget-view+json": {
       "model_id": "dc4fd2173d2c407797b8beb115e46b55",
       "version_major": 2,
       "version_minor": 0
      },
      "text/plain": [
       "Epochs:   0%|          | 0/20 [00:00<?, ?epoch/s]"
      ]
     },
     "metadata": {},
     "output_type": "display_data"
    },
    {
     "data": {
      "application/vnd.jupyter.widget-view+json": {
       "model_id": "e0a9dc79e74a4b06873354549c1ec9de",
       "version_major": 2,
       "version_minor": 0
      },
      "text/plain": [
       "Epoch 1:   0%|          | 0/469 [00:00<?, ?it/s]"
      ]
     },
     "metadata": {},
     "output_type": "display_data"
    },
    {
     "name": "stdout",
     "output_type": "stream",
     "text": [
      "Epoch 1 - Train Loss: 123.2030 | Val Loss: 121.0360\n"
     ]
    },
    {
     "data": {
      "application/vnd.jupyter.widget-view+json": {
       "model_id": "0e36b6bd5cb24c0ab88e44db81c00bb2",
       "version_major": 2,
       "version_minor": 0
      },
      "text/plain": [
       "Epoch 2:   0%|          | 0/469 [00:00<?, ?it/s]"
      ]
     },
     "metadata": {},
     "output_type": "display_data"
    },
    {
     "name": "stdout",
     "output_type": "stream",
     "text": [
      "Epoch 2 - Train Loss: 115.9893 | Val Loss: 116.4638\n"
     ]
    },
    {
     "data": {
      "application/vnd.jupyter.widget-view+json": {
       "model_id": "9a4b54ba23f64065a44538d85869831c",
       "version_major": 2,
       "version_minor": 0
      },
      "text/plain": [
       "Epoch 3:   0%|          | 0/469 [00:00<?, ?it/s]"
      ]
     },
     "metadata": {},
     "output_type": "display_data"
    },
    {
     "name": "stdout",
     "output_type": "stream",
     "text": [
      "Epoch 3 - Train Loss: 117.1121 | Val Loss: 114.8990\n"
     ]
    },
    {
     "data": {
      "application/vnd.jupyter.widget-view+json": {
       "model_id": "04e2cc8ffb8e4af4945da6d4acb01689",
       "version_major": 2,
       "version_minor": 0
      },
      "text/plain": [
       "Epoch 4:   0%|          | 0/469 [00:00<?, ?it/s]"
      ]
     },
     "metadata": {},
     "output_type": "display_data"
    },
    {
     "name": "stdout",
     "output_type": "stream",
     "text": [
      "Epoch 4 - Train Loss: 119.6781 | Val Loss: 114.5060\n"
     ]
    },
    {
     "data": {
      "application/vnd.jupyter.widget-view+json": {
       "model_id": "46a9e7e8802f4de5993711139e34f119",
       "version_major": 2,
       "version_minor": 0
      },
      "text/plain": [
       "Epoch 5:   0%|          | 0/469 [00:00<?, ?it/s]"
      ]
     },
     "metadata": {},
     "output_type": "display_data"
    },
    {
     "name": "stdout",
     "output_type": "stream",
     "text": [
      "Epoch 5 - Train Loss: 110.9336 | Val Loss: 113.6576\n"
     ]
    },
    {
     "data": {
      "application/vnd.jupyter.widget-view+json": {
       "model_id": "6f2fd140db2b4b328ca69d91cfae88d9",
       "version_major": 2,
       "version_minor": 0
      },
      "text/plain": [
       "Epoch 6:   0%|          | 0/469 [00:00<?, ?it/s]"
      ]
     },
     "metadata": {},
     "output_type": "display_data"
    },
    {
     "name": "stdout",
     "output_type": "stream",
     "text": [
      "Epoch 6 - Train Loss: 112.8198 | Val Loss: 113.7992\n"
     ]
    },
    {
     "data": {
      "application/vnd.jupyter.widget-view+json": {
       "model_id": "9087819b0e13406dbcc5b557d8a45fdb",
       "version_major": 2,
       "version_minor": 0
      },
      "text/plain": [
       "Epoch 7:   0%|          | 0/469 [00:00<?, ?it/s]"
      ]
     },
     "metadata": {},
     "output_type": "display_data"
    },
    {
     "name": "stdout",
     "output_type": "stream",
     "text": [
      "Epoch 7 - Train Loss: 117.3897 | Val Loss: 112.6843\n"
     ]
    },
    {
     "data": {
      "application/vnd.jupyter.widget-view+json": {
       "model_id": "58c1e9a3a71546b4b1c8e4db02fbae18",
       "version_major": 2,
       "version_minor": 0
      },
      "text/plain": [
       "Epoch 8:   0%|          | 0/469 [00:00<?, ?it/s]"
      ]
     },
     "metadata": {},
     "output_type": "display_data"
    },
    {
     "name": "stdout",
     "output_type": "stream",
     "text": [
      "Epoch 8 - Train Loss: 114.7098 | Val Loss: 112.9790\n"
     ]
    },
    {
     "data": {
      "application/vnd.jupyter.widget-view+json": {
       "model_id": "8323d03876894972a0097142d3a5a57e",
       "version_major": 2,
       "version_minor": 0
      },
      "text/plain": [
       "Epoch 9:   0%|          | 0/469 [00:00<?, ?it/s]"
      ]
     },
     "metadata": {},
     "output_type": "display_data"
    },
    {
     "name": "stdout",
     "output_type": "stream",
     "text": [
      "Epoch 9 - Train Loss: 107.1404 | Val Loss: 113.4566\n"
     ]
    },
    {
     "data": {
      "application/vnd.jupyter.widget-view+json": {
       "model_id": "33bcec79d5cd41adb82d9aeb77d912c1",
       "version_major": 2,
       "version_minor": 0
      },
      "text/plain": [
       "Epoch 10:   0%|          | 0/469 [00:00<?, ?it/s]"
      ]
     },
     "metadata": {},
     "output_type": "display_data"
    },
    {
     "name": "stdout",
     "output_type": "stream",
     "text": [
      "Epoch 10 - Train Loss: 109.5922 | Val Loss: 113.1560\n"
     ]
    },
    {
     "data": {
      "application/vnd.jupyter.widget-view+json": {
       "model_id": "d8f2005717df41bc88a31a6c14bcc0a8",
       "version_major": 2,
       "version_minor": 0
      },
      "text/plain": [
       "Epoch 11:   0%|          | 0/469 [00:00<?, ?it/s]"
      ]
     },
     "metadata": {},
     "output_type": "display_data"
    },
    {
     "name": "stdout",
     "output_type": "stream",
     "text": [
      "Epoch 11 - Train Loss: 116.7224 | Val Loss: 112.7552\n"
     ]
    },
    {
     "data": {
      "application/vnd.jupyter.widget-view+json": {
       "model_id": "a8182bee68a341628f75fa1e2cdade80",
       "version_major": 2,
       "version_minor": 0
      },
      "text/plain": [
       "Epoch 12:   0%|          | 0/469 [00:00<?, ?it/s]"
      ]
     },
     "metadata": {},
     "output_type": "display_data"
    },
    {
     "name": "stdout",
     "output_type": "stream",
     "text": [
      "Epoch 12 - Train Loss: 114.6181 | Val Loss: 112.3700\n"
     ]
    },
    {
     "data": {
      "application/vnd.jupyter.widget-view+json": {
       "model_id": "99c60ab68854448386a0d8235d747f93",
       "version_major": 2,
       "version_minor": 0
      },
      "text/plain": [
       "Epoch 13:   0%|          | 0/469 [00:00<?, ?it/s]"
      ]
     },
     "metadata": {},
     "output_type": "display_data"
    },
    {
     "name": "stdout",
     "output_type": "stream",
     "text": [
      "Epoch 13 - Train Loss: 112.8099 | Val Loss: 113.1159\n"
     ]
    },
    {
     "data": {
      "application/vnd.jupyter.widget-view+json": {
       "model_id": "5eb7a4ca837a439494dc04a1f1351705",
       "version_major": 2,
       "version_minor": 0
      },
      "text/plain": [
       "Epoch 14:   0%|          | 0/469 [00:00<?, ?it/s]"
      ]
     },
     "metadata": {},
     "output_type": "display_data"
    },
    {
     "name": "stdout",
     "output_type": "stream",
     "text": [
      "Epoch 14 - Train Loss: 111.6471 | Val Loss: 112.1150\n"
     ]
    },
    {
     "data": {
      "application/vnd.jupyter.widget-view+json": {
       "model_id": "dac3013d5b554598b0f7bf5a57220d51",
       "version_major": 2,
       "version_minor": 0
      },
      "text/plain": [
       "Epoch 15:   0%|          | 0/469 [00:00<?, ?it/s]"
      ]
     },
     "metadata": {},
     "output_type": "display_data"
    },
    {
     "name": "stdout",
     "output_type": "stream",
     "text": [
      "Epoch 15 - Train Loss: 118.6138 | Val Loss: 112.5082\n"
     ]
    },
    {
     "data": {
      "application/vnd.jupyter.widget-view+json": {
       "model_id": "db754150bb0f414fbdeb4da0a86e6547",
       "version_major": 2,
       "version_minor": 0
      },
      "text/plain": [
       "Epoch 16:   0%|          | 0/469 [00:00<?, ?it/s]"
      ]
     },
     "metadata": {},
     "output_type": "display_data"
    },
    {
     "name": "stdout",
     "output_type": "stream",
     "text": [
      "Epoch 16 - Train Loss: 112.1635 | Val Loss: 112.6226\n"
     ]
    },
    {
     "data": {
      "application/vnd.jupyter.widget-view+json": {
       "model_id": "eb7db992b169414f9e6206a42c5dbee2",
       "version_major": 2,
       "version_minor": 0
      },
      "text/plain": [
       "Epoch 17:   0%|          | 0/469 [00:00<?, ?it/s]"
      ]
     },
     "metadata": {},
     "output_type": "display_data"
    },
    {
     "name": "stdout",
     "output_type": "stream",
     "text": [
      "Epoch 17 - Train Loss: 112.2909 | Val Loss: 111.3938\n"
     ]
    },
    {
     "data": {
      "application/vnd.jupyter.widget-view+json": {
       "model_id": "62d0a88a72044873914b81b2d2967a21",
       "version_major": 2,
       "version_minor": 0
      },
      "text/plain": [
       "Epoch 18:   0%|          | 0/469 [00:00<?, ?it/s]"
      ]
     },
     "metadata": {},
     "output_type": "display_data"
    },
    {
     "name": "stdout",
     "output_type": "stream",
     "text": [
      "Epoch 18 - Train Loss: 113.0009 | Val Loss: 112.2526\n"
     ]
    },
    {
     "data": {
      "application/vnd.jupyter.widget-view+json": {
       "model_id": "3f54d562f7424398b5fc93af037969cf",
       "version_major": 2,
       "version_minor": 0
      },
      "text/plain": [
       "Epoch 19:   0%|          | 0/469 [00:00<?, ?it/s]"
      ]
     },
     "metadata": {},
     "output_type": "display_data"
    },
    {
     "name": "stdout",
     "output_type": "stream",
     "text": [
      "Epoch 19 - Train Loss: 114.4844 | Val Loss: 111.7175\n"
     ]
    },
    {
     "data": {
      "application/vnd.jupyter.widget-view+json": {
       "model_id": "64772630ec314a53b804d80c33ab4d51",
       "version_major": 2,
       "version_minor": 0
      },
      "text/plain": [
       "Epoch 20:   0%|          | 0/469 [00:00<?, ?it/s]"
      ]
     },
     "metadata": {},
     "output_type": "display_data"
    },
    {
     "name": "stdout",
     "output_type": "stream",
     "text": [
      "Epoch 20 - Train Loss: 113.5330 | Val Loss: 112.6401\n"
     ]
    }
   ],
   "source": [
    "train_losses, val_losses = train_model(\n",
    "    loss_fn=loss_vae_bernoulli,\n",
    "    encoder=encoder_bernoulli,\n",
    "    decoder=decoder_bernoulli,\n",
    "    train_dataset=train_dataset,\n",
    "    test_dataset=test_dataset,\n",
    "    batch_size=BATCH_SIZE,\n",
    "    num_epochs=NUM_EPOCHS,\n",
    "    learning_rate=LR,\n",
    ")"
   ]
  },
  {
   "cell_type": "markdown",
   "id": "8c163e5a",
   "metadata": {
    "id": "8c163e5a"
   },
   "source": [
    "### 1.6 VAE Inference (1 point)\n",
    "\n",
    "Implement code to:\n",
    "1. Sample latent codes ${\\color{purple}p_Z}(z)$\n",
    "2. Generate images via decoder ${\\color{blue}p_\\theta}(x|z)$\n",
    "\n",
    "Visualization function is provided. Output should match:\n",
    "![VAE samples](https://i124.fastpic.org/big/2024/1113/d7/286de6a255bed7ad26f56bf0d97b5cd7.png)"
   ]
  },
  {
   "cell_type": "code",
   "execution_count": 17,
   "id": "ee7b13a7",
   "metadata": {
    "id": "ee7b13a7"
   },
   "outputs": [],
   "source": [
    "def generate_vae_samples(\n",
    "    decoder: nn.Module,\n",
    "    logits_to_pixels: Callable[[torch.Tensor], torch.Tensor],\n",
    "    n_samples: int = 50,\n",
    "    latent_dim: int = LATENT_DIM,\n",
    "    device: torch.device = DEVICE,\n",
    "    img_shape: tuple[int, int] = (28, 28),\n",
    ") -> np.ndarray:\n",
    "    \"\"\"\n",
    "    Generate samples via a trained VAE decoder.\n",
    "\n",
    "    Args:\n",
    "        decoder: Trained decoder network (pθ(x|z)) that outputs logits\n",
    "        logits_to_pixels: Function converting output of decoder to pixel probabilities\n",
    "        n_samples: Number of samples to generate\n",
    "        latent_dim: Dimension of latent space\n",
    "        device: Computation device\n",
    "        img_shape: Target image shape (H, W)\n",
    "\n",
    "    Returns:\n",
    "        Generated samples as numpy array of shape (n_samples, H, W)\n",
    "        with integer values in [0, num_categories - 1]\n",
    "    \"\"\"\n",
    "    height, width = img_shape\n",
    "    \n",
    "    with torch.no_grad():\n",
    "        # Sample z ~ N(0, I)\n",
    "        prior_dist = Independent(\n",
    "            Normal(loc=torch.zeros(n_samples, latent_dim, device=device),\n",
    "                   scale=torch.ones(n_samples, latent_dim, device=device)),\n",
    "            reinterpreted_batch_ndims=1,\n",
    "        )\n",
    "        latent_vectors = prior_dist.sample()\n",
    "\n",
    "        logits = decoder(latent_vectors) # YOU CODE HERE\n",
    "\n",
    "        images = logits_to_pixels(logits) # YOU CODE HERE\n",
    "\n",
    "        # Reshape to image format\n",
    "        samples = images.view(n_samples, height, width).cpu().numpy()\n",
    "\n",
    "    return samples"
   ]
  },
  {
   "cell_type": "markdown",
   "id": "8390d29d",
   "metadata": {},
   "source": [
    "Below we provide a function to visualize samples."
   ]
  },
  {
   "cell_type": "code",
   "execution_count": 18,
   "id": "5940679b",
   "metadata": {},
   "outputs": [],
   "source": [
    "def visualize_samples(samples: np.ndarray, n_rows: int = 5, n_cols: int = 10, figsize_scale: float = 1.4) -> None:\n",
    "    \"\"\"\n",
    "    Visualize generated samples in a grid layout.\n",
    "\n",
    "    Args:\n",
    "        samples: Array of samples with shape (n_samples, height, width)\n",
    "        n_rows: Number of rows in grid\n",
    "        n_cols: Number of columns in grid\n",
    "        figsize_scale: Scaling factor for figure size\n",
    "    \"\"\"\n",
    "    # Create subplot grid\n",
    "    _, axes = plt.subplots(\n",
    "        nrows=n_rows,\n",
    "        ncols=n_cols,\n",
    "        figsize=(int(figsize_scale * n_cols), int(figsize_scale * n_rows)),\n",
    "        subplot_kw={\"xticks\": [], \"yticks\": []},\n",
    "    )\n",
    "\n",
    "    # Plot each sample in the grid\n",
    "    for idx, ax in enumerate(axes.flat):\n",
    "        if idx < len(samples):  # Only plot if sample exists\n",
    "            ax.imshow(samples[idx], cmap=\"gray\", vmin=0, vmax=1)\n",
    "\n",
    "    plt.tight_layout()"
   ]
  },
  {
   "cell_type": "markdown",
   "id": "edb561df",
   "metadata": {
    "id": "edb561df"
   },
   "source": [
    "Now we pass the trained decoder to visualize the samples."
   ]
  },
  {
   "cell_type": "code",
   "execution_count": 19,
   "id": "19eab00d",
   "metadata": {
    "id": "19eab00d"
   },
   "outputs": [
    {
     "data": {
      "image/png": "[encoded data removed]",
      "text/plain": [
       "<Figure size 1400x700 with 50 Axes>"
      ]
     },
     "metadata": {},
     "output_type": "display_data"
    }
   ],
   "source": [
    "visualize_samples(generate_vae_samples(decoder=decoder_bernoulli, logits_to_pixels=logits_to_pixels_bernoulli))"
   ]
  },
  {
   "cell_type": "markdown",
   "id": "bfa10e46",
   "metadata": {},
   "source": [
    "### 1.7 Model Evaluation Task (2 points)\n",
    "\n",
    "You have generated images from your model. To evaluate their quality, please perform the following comparison:\n",
    "\n",
    "1. **Data Preparation**:\n",
    "   - Generate 5,000 images using your trained model\n",
    "   - Select 5,000 real images from the original dataset\n",
    "\n",
    "2. **Classification Setup**:\n",
    "   - Label generated images as `0` (fake)\n",
    "   - Label real images as `1` (real)\n",
    "   - Combine into a single dataset (10,000 total samples)\n",
    "\n",
    "3. **Classifier Training**:\n",
    "   - Train an MLP classifier using scikit-learn's `MLPClassifier`\n",
    "\n",
    "4. **Evaluation**:\n",
    "   - Calculate ROC-AUC score:\n",
    "\n",
    "5. **Analysis**:\n",
    "   - Report the ROC-AUC score\n",
    "   - Document your observations about:\n",
    "     - How distinguishable the generated images are from real ones\n",
    "     - The implications for your VAE's performance"
   ]
  },
  {
   "cell_type": "code",
   "execution_count": 20,
   "id": "7969780f",
   "metadata": {},
   "outputs": [],
   "source": [
    "from sklearn.neural_network import MLPClassifier\n",
    "from sklearn.model_selection import train_test_split\n",
    "from sklearn.metrics import roc_auc_score, roc_curve\n",
    "from sklearn.preprocessing import MinMaxScaler"
   ]
  },
  {
   "cell_type": "code",
   "execution_count": null,
   "id": "3efdaaf7",
   "metadata": {},
   "outputs": [],
   "source": [
    "# Constants\n",
    "NUM_SAMPLES = 5000 \n",
    "TEST_SIZE = NUM_SAMPLES * 2"
   ]
  },
  {
   "cell_type": "code",
   "execution_count": 23,
   "id": "7509aa3b",
   "metadata": {},
   "outputs": [],
   "source": [
    "def prepare_dataset(\n",
    "    decoder: nn.Module,\n",
    "    logits_to_pixels: Callable[[torch.Tensor], torch.Tensor],\n",
    "    dataset: torch.utils.data.Dataset,\n",
    "    num_samples: int = NUM_SAMPLES,\n",
    ") -> tuple[np.ndarray, np.ndarray]:\n",
    "    \"\"\"Prepare real and generated samples with labels.\"\"\"\n",
    "    # Generate fake samples\n",
    "    fake_samples = generate_vae_samples(decoder, logits_to_pixels, n_samples=num_samples)\n",
    "\n",
    "    # Get real samples\n",
    "    real_samples, _ = next(iter(DataLoader(dataset, batch_size=num_samples, shuffle=True)))\n",
    "\n",
    "    # Combine and label\n",
    "    data = np.concatenate(\n",
    "        [real_samples.squeeze(1).cpu().numpy().reshape(num_samples, -1), fake_samples.reshape(num_samples, -1)]\n",
    "    )\n",
    "    labels = np.concatenate([np.ones(num_samples), np.zeros(num_samples)])\n",
    "\n",
    "    return MinMaxScaler().fit_transform(data), labels"
   ]
  },
  {
   "cell_type": "code",
   "execution_count": 24,
   "id": "ccfe9ffe",
   "metadata": {},
   "outputs": [],
   "source": [
    "def train_discriminator(X: np.ndarray, y: np.ndarray) -> MLPClassifier:\n",
    "    \"\"\"Train MLP classifier to distinguish real vs generated samples.\"\"\"\n",
    "    mlp = MLPClassifier(\n",
    "        hidden_layer_sizes=(128, 64),\n",
    "        activation='relu',\n",
    "        solver='adam',\n",
    "        max_iter=200,\n",
    "        random_state=42,\n",
    "        verbose=False\n",
    "    )\n",
    "    return mlp.fit(X, y)"
   ]
  },
  {
   "cell_type": "code",
   "execution_count": 25,
   "id": "6cb5805c",
   "metadata": {},
   "outputs": [],
   "source": [
    "def evaluate_model(model: MLPClassifier, X: np.ndarray, y: np.ndarray) -> float:\n",
    "    \"\"\"Evaluate model and plot ROC curve.\"\"\"\n",
    "    y_proba = model.predict_proba(X)[:, 1]\n",
    "    roc_auc = roc_auc_score(y, y_proba)\n",
    "\n",
    "    # Plotting\n",
    "    fpr, tpr, _ = roc_curve(y, y_proba)\n",
    "    plt.figure()\n",
    "    plt.plot(fpr, tpr, label=f\"ROC-AUC = {roc_auc:.3f}\")\n",
    "    plt.plot([0, 1], [0, 1], \"k--\")\n",
    "    plt.xlabel(\"False Positive Rate\")\n",
    "    plt.ylabel(\"True Positive Rate\")\n",
    "    plt.title(\"Real vs Generated Image Classification\")\n",
    "    plt.legend()\n",
    "    plt.show()\n",
    "\n",
    "    return roc_auc"
   ]
  },
  {
   "cell_type": "code",
   "execution_count": 29,
   "id": "37730296",
   "metadata": {},
   "outputs": [
    {
     "data": {
      "image/png": "[encoded data removed]",
      "text/plain": [
       "<Figure size 640x480 with 1 Axes>"
      ]
     },
     "metadata": {},
     "output_type": "display_data"
    },
    {
     "name": "stdout",
     "output_type": "stream",
     "text": [
      "Final ROC-AUC Score: 0.995\n"
     ]
    }
   ],
   "source": [
    "# Prepare and split data\n",
    "X, y = prepare_dataset(decoder_bernoulli, logits_to_pixels_bernoulli, test_dataset, num_samples=NUM_SAMPLES) # YOU CODE HERE\n",
    "X_train, X_val, y_train, y_val = train_test_split(X, y, test_size=0.2, random_state=42) # YOU CODE HERE\n",
    "\n",
    "# Train and evaluate\n",
    "discriminator = train_discriminator(X_train, y_train)\n",
    "roc_score = evaluate_model(discriminator, X_val, y_val)\n",
    "print(f\"Final ROC-AUC Score: {roc_score:.3f}\")"
   ]
  },
  {
   "cell_type": "markdown",
   "id": "d2a8efb9",
   "metadata": {},
   "source": [
    "**Observations:** \n",
    "\n",
    "- The ROC curve shows that the classifier performs very well.\n",
    "- The AUC score is **0.995**, meaning it can easily tell real from generated images.\n",
    "- This likely means the VAE’s generated samples are not yet fully realistic."
   ]
  },
  {
   "cell_type": "markdown",
   "id": "04157c25",
   "metadata": {
    "id": "04157c25"
   },
   "source": [
    "### 1.8 Plot Reconstructions (1 point)\n",
    "\n",
    "The *reconstruction* process follows these steps:\n",
    "1. Take an input $x$ from the dataset\n",
    "2. Encode it using the encoder model ${\\color{red}q_\\phi}(z|x)$\n",
    "3. Sample from this distribution via the reparameterization trick\n",
    "4. Decode the sample using ${\\color{blue}p_\\theta}(x|z)$\n",
    "\n",
    "The resulting generated image is called a *reconstruction*, which should be similar to the original input $x$."
   ]
  },
  {
   "cell_type": "code",
   "execution_count": 32,
   "id": "b4d9f3f9",
   "metadata": {},
   "outputs": [],
   "source": [
    "def plot_reconstructions(\n",
    "    loss_vae: Callable[[torch.Tensor, nn.Module, nn.Module], tuple[torch.Tensor, torch.Tensor]],\n",
    "    encoder: nn.Module,\n",
    "    decoder: nn.Module,\n",
    "    test_dataset: torch.utils.data.Dataset,\n",
    "    logits_to_pixels: Callable[[torch.Tensor], torch.Tensor],\n",
    "    data_dim: int = DATA_DIM,\n",
    "    img_shape: tuple[int, int] = (28, 28),\n",
    "    n_rows: int = 5,\n",
    "    n_cols: int = 10,\n",
    "    figsize_scale: float = 1.4,\n",
    "    device: torch.device = DEVICE,\n",
    ") -> None:\n",
    "    \"\"\"\n",
    "    Visualize original images and their VAE reconstructions side-by-side.\n",
    "\n",
    "    Args:\n",
    "        loss_vae: VAE loss function that returns (loss, reconstructions)\n",
    "        encoder: Trained encoder network (qϕ(z|x))\n",
    "        decoder: Trained decoder network (pθ(x|z))\n",
    "        test_dataset: Dataset containing test images\n",
    "        logits_to_pixels: Function converting output of decoder to pixels\n",
    "        data_dim: Dimension of flattened input data\n",
    "        img_shape: Shape of output images (height, width)\n",
    "        n_rows: Number of rows in grid\n",
    "        n_cols: Number of columns in grid (must be even)\n",
    "        figsize_scale: Scaling factor for figure size\n",
    "        device: Device to run computations on\n",
    "    \"\"\"\n",
    "    n_samples = n_rows * (n_cols // 2)  # Each sample takes 2 columns\n",
    "\n",
    "    with torch.no_grad():\n",
    "        batch = test_dataset.data[:n_samples].float() / 255.0\n",
    "        batch = batch.view(-1, data_dim).to(device)\n",
    "\n",
    "        reconstructions = logits_to_pixels(loss_vae(batch, encoder, decoder)[1])\n",
    "\n",
    "        originals = batch.view(-1, *img_shape).cpu().numpy()\n",
    "        reconstructions = reconstructions.view(-1, *img_shape).cpu().numpy()\n",
    "\n",
    "    _, axes = plt.subplots(\n",
    "        nrows=n_rows,\n",
    "        ncols=n_cols,\n",
    "        figsize=(int(figsize_scale * n_cols), int(figsize_scale * n_rows)),\n",
    "        subplot_kw={\"xticks\": [], \"yticks\": []},\n",
    "    )\n",
    "\n",
    "    for i in range(n_samples):\n",
    "        row = i % n_rows\n",
    "        col_original = 2 * (i // n_rows)\n",
    "        col_recon = col_original + 1\n",
    "\n",
    "        axes[row, col_original].imshow(originals[i], cmap=\"gray\", vmin=0, vmax=1)\n",
    "        axes[row, col_recon].imshow(reconstructions[i], cmap=\"gray\", vmin=0, vmax=1)\n",
    "\n",
    "        if row == 0:\n",
    "            axes[row, col_original].set_title(\"Original\")\n",
    "            axes[row, col_recon].set_title(\"Reconstruction\")\n",
    "\n",
    "    plt.tight_layout()\n",
    "    plt.show()"
   ]
  },
  {
   "cell_type": "code",
   "execution_count": 33,
   "id": "28f8f579",
   "metadata": {},
   "outputs": [
    {
     "data": {
      "image/png": "[encoded data removed]",
      "text/plain": [
       "<Figure size 1400x700 with 50 Axes>"
      ]
     },
     "metadata": {},
     "output_type": "display_data"
    }
   ],
   "source": [
    "plot_reconstructions(\n",
    "    loss_vae_bernoulli, encoder_bernoulli, decoder_bernoulli, test_dataset, logits_to_pixels_bernoulli\n",
    ")"
   ]
  },
  {
   "cell_type": "markdown",
   "id": "3efe9bd2",
   "metadata": {
    "id": "3efe9bd2"
   },
   "source": [
    "### 1.9 Understanding Latent Space Through Interpolation (1 point)\n",
    "\n",
    "The first approach to explore a VAE's latent space is through **interpolation**. We:\n",
    "\n",
    "1. Select two latent codes ${\\color{purple}z_0}$ and ${\\color{purple}z_1}$\n",
    "2. Construct a straight line between them in latent space\n",
    "3. Decode samples at points along this line\n",
    "\n",
    "The resulting sequence shows how the decoder transforms gradual changes in latent space to meaningful variations in data space."
   ]
  },
  {
   "cell_type": "code",
   "execution_count": 36,
   "id": "8ec500dc",
   "metadata": {},
   "outputs": [],
   "source": [
    "def plot_interpolations(\n",
    "    encoder: nn.Module,\n",
    "    decoder: nn.Module,\n",
    "    test_dataset: torch.utils.data.Dataset,\n",
    "    logits_to_pixels: Callable[[torch.Tensor], torch.Tensor],\n",
    "    latent_dim: int = LATENT_DIM,\n",
    "    data_dim: int = DATA_DIM,\n",
    "    n_pairs: int = 5,\n",
    "    n_steps: int = 10,\n",
    "    img_shape: tuple[int, int] = (28, 28),\n",
    "    figsize: tuple[int, int] = (14, 7),\n",
    "    device: torch.device = DEVICE,\n",
    ") -> None:\n",
    "    \"\"\"\n",
    "    Visualize linear interpolations between latent vectors of test images.\n",
    "\n",
    "    Args:\n",
    "        encoder: Trained encoder network (qϕ(z|x))\n",
    "        decoder: Trained decoder network (pθ(x|z))\n",
    "        test_dataset: Dataset containing test images\n",
    "        logits_to_pixels: Function converting decoder outputs to pixel values\n",
    "        latent_dim: Dimension of latent space\n",
    "        data_dim: Dimension of flattened input data\n",
    "        n_pairs: Number of image pairs to interpolate between\n",
    "        n_steps: Number of interpolation steps\n",
    "        img_shape: Shape of output images (height, width)\n",
    "        figsize: Size of the output figure\n",
    "        device: Device to run computations on\n",
    "    \"\"\"\n",
    "    with torch.no_grad():\n",
    "        # Get test images and normalize\n",
    "        batch = test_dataset.data[:2 * n_pairs].float() / 255.0  # Normalize to [0,1]\n",
    "        batch = batch.view(-1, data_dim).to(device)\n",
    "        \n",
    "        # Encode to latent space\n",
    "        mu, log_var = encoder(batch)\n",
    "        \n",
    "        # Sample using reparameterization trick\n",
    "        eps = torch.randn_like(mu)\n",
    "        z = mu + torch.exp(0.5 * log_var) * eps\n",
    "\n",
    "        # Prepare endpoint pairs\n",
    "        z_start = z[0::2].unsqueeze(1) # YOU CODE HERE\n",
    "        z_end = z[1::2].unsqueeze(1) # YOU CODE HERE\n",
    "\n",
    "        # Linear interpolation\n",
    "        alpha = torch.linspace(0, 1, n_steps, device=device).view(1, n_steps, 1) # YOU CODE HERE\n",
    "        interpolations_z = (1 - alpha) * z_start + alpha * z_end # YOU CODE HERE\n",
    "        interpolations_z = interpolations_z.view(-1, latent_dim) # YOU CODE HERE\n",
    "\n",
    "        # Decode and convert to pixel values\n",
    "        decoded = decoder(interpolations_z) # YOU CODE HERE\n",
    "        interpolations_x = logits_to_pixels(decoded) # YOU CODE HERE\n",
    "        interpolations_x = interpolations_x.view(n_pairs, n_steps, *img_shape).cpu().numpy()\n",
    "\n",
    "    # Plotting\n",
    "    _, axes = plt.subplots(n_pairs, n_steps, figsize=figsize, \n",
    "                           subplot_kw={'xticks': [], 'yticks': []})\n",
    "    \n",
    "    for i in range(n_pairs):\n",
    "        for j in range(n_steps):\n",
    "            axes[i,j].imshow(interpolations_x[i,j], cmap='gray')\n",
    "            \n",
    "    plt.tight_layout()\n",
    "    plt.show()"
   ]
  },
  {
   "cell_type": "code",
   "execution_count": 37,
   "id": "d518a8ba",
   "metadata": {
    "id": "d518a8ba"
   },
   "outputs": [
    {
     "data": {
      "image/png": "[encoded data removed]",
      "text/plain": [
       "<Figure size 1400x700 with 50 Axes>"
      ]
     },
     "metadata": {},
     "output_type": "display_data"
    }
   ],
   "source": [
    "plot_interpolations(encoder_bernoulli, decoder_bernoulli, test_dataset, logits_to_pixels_bernoulli)"
   ]
  },
  {
   "cell_type": "markdown",
   "id": "72e9b063",
   "metadata": {
    "id": "72e9b063"
   },
   "source": [
    "### 1.10 Latent Space Visualization\n",
    "\n",
    "The latent space structure can be analyzed using geometric machine learning methods, particularly [t-SNE](https://en.wikipedia.org/wiki/T-distributed_stochastic_neighbor_embedding)."
   ]
  },
  {
   "cell_type": "code",
   "execution_count": 38,
   "id": "fc83fc1e",
   "metadata": {},
   "outputs": [],
   "source": [
    "from sklearn.manifold import TSNE"
   ]
  },
  {
   "cell_type": "code",
   "execution_count": 39,
   "id": "18c9e1b3",
   "metadata": {
    "id": "18c9e1b3"
   },
   "outputs": [],
   "source": [
    "def plot_latent_tsne(\n",
    "    encoder: nn.Module,\n",
    "    test_dataset: torch.utils.data.Dataset,\n",
    "    n_samples: int = 1000,\n",
    "    data_dim: int = DATA_DIM,\n",
    "    device: torch.device = DEVICE,\n",
    "    figsize: tuple[int, int] = (8, 8),\n",
    "    random_state: int = 42,\n",
    ") -> None:\n",
    "    \"\"\"\n",
    "    Visualize latent space using t-SNE dimensionality reduction.\n",
    "\n",
    "    Args:\n",
    "        encoder: Trained encoder network (qϕ(z|x))\n",
    "        test_dataset: Dataset with test images and labels\n",
    "        n_samples: Number of samples to visualize (max: len(test_dataset))\n",
    "        latent_dim: Dimension of latent space\n",
    "        data_dim: Dimension of flattened input data\n",
    "        device: Device to run computations on\n",
    "        figsize: Size of the output figure\n",
    "        random_state: Random seed for t-SNE reproducibility\n",
    "    \"\"\"\n",
    "    # Get latent representations\n",
    "    with torch.no_grad():\n",
    "        n_samples = min(n_samples, len(test_dataset))\n",
    "        batch = test_dataset.data[:n_samples].float() / 255.0\n",
    "        batch = batch.view(-1, data_dim).to(device)\n",
    "        mu, _ = encoder(batch)  # Only need mean for visualization\n",
    "        mu = mu.cpu().numpy()\n",
    "        labels = test_dataset.targets[:n_samples].numpy()\n",
    "\n",
    "    # Compute t-SNE embeddings\n",
    "    tsne = TSNE(n_components=2, random_state=random_state)\n",
    "    tsne_embeddings = tsne.fit_transform(mu)\n",
    "\n",
    "    plt.figure(figsize=figsize)\n",
    "    for class_idx in np.unique(labels):\n",
    "        mask = labels == class_idx\n",
    "        plt.scatter(tsne_embeddings[mask, 0], tsne_embeddings[mask, 1], label=str(class_idx), alpha=0.6, s=15)\n",
    "\n",
    "    plt.legend(title=\"Digit Class\", bbox_to_anchor=(1.05, 1), loc=\"upper left\")\n",
    "    plt.title(\"t-SNE Visualization of VAE Latent Space\")\n",
    "    plt.grid(alpha=0.2)\n",
    "    plt.tight_layout()\n",
    "    plt.show()"
   ]
  },
  {
   "cell_type": "code",
   "execution_count": 40,
   "id": "49d45bf5",
   "metadata": {},
   "outputs": [
    {
     "data": {
      "image/png": "[encoded data removed]",
      "text/plain": [
       "<Figure size 800x800 with 1 Axes>"
      ]
     },
     "metadata": {},
     "output_type": "display_data"
    }
   ],
   "source": [
    "plot_latent_tsne(encoder_bernoulli, test_dataset)"
   ]
  },
  {
   "cell_type": "markdown",
   "id": "194eab00",
   "metadata": {
    "id": "194eab00"
   },
   "source": [
    "## Task 2. VAE with Categorical Decoder (5 points)"
   ]
  },
  {
   "cell_type": "markdown",
   "id": "3fa123fa",
   "metadata": {},
   "source": [
    "**Decoder Modification Task** (3 pts)\n",
    "\n",
    "1. **Modification Required**:\n",
    "   - Replace the Bernoulli decoder ${\\color{blue}p_\\theta}(x|z)$ with a **Categorical decoder** for 8 gray-level features (8 color gradations)\n",
    "\n",
    "2. **Training**:\n",
    "   - Retrain your VAE with the new decoder\n",
    "\n",
    "3. **Evaluation**:\n",
    "   - Compare classifier ROC-AUC scores between:\n",
    "     - Real images vs Bernoulli decoder (2 features)\n",
    "     - Real images vs Categorical decoder (8 features)\n",
    "\n",
    "**Note**: The Categorical distribution models discrete outcomes with multiple categories. [Learn more](https://en.wikipedia.org/wiki/Categorical_distribution)."
   ]
  },
  {
   "cell_type": "code",
   "execution_count": 41,
   "id": "dc2a6180",
   "metadata": {},
   "outputs": [],
   "source": [
    "NUM_CATEGORIES = 8"
   ]
  },
  {
   "cell_type": "code",
   "execution_count": 50,
   "id": "a6d2b956",
   "metadata": {},
   "outputs": [],
   "source": [
    "class CategoricalDecoder(nn.Module):\n",
    "    def __init__(\n",
    "        self,\n",
    "        data_dim: int = DATA_DIM,\n",
    "        latent_dim: int = LATENT_DIM,\n",
    "        hidden_dim: int = HIDDEN_DIM,\n",
    "        num_categories: int = NUM_CATEGORIES,\n",
    "    ):\n",
    "        super(CategoricalDecoder, self).__init__()\n",
    "        self.data_dim = data_dim\n",
    "        self.num_categories = num_categories\n",
    "        self.net = nn.Sequential(\n",
    "            nn.Linear(latent_dim, hidden_dim),\n",
    "            nn.ReLU(),\n",
    "            nn.Linear(hidden_dim, data_dim * num_categories)\n",
    "        )\n",
    "\n",
    "    def forward(self, z: torch.Tensor) -> torch.Tensor:\n",
    "        logits = self.net(z)\n",
    "        return logits.view(-1, self.data_dim, self.num_categories) # YOU CODE HERE # outputs logits for Categorical distribution"
   ]
  },
  {
   "cell_type": "code",
   "execution_count": 51,
   "id": "5936cd5b",
   "metadata": {},
   "outputs": [],
   "source": [
    "def preprocess_x_categorical(x: torch.Tensor, num_categories: int = NUM_CATEGORIES) -> torch.Tensor:\n",
    "    \"\"\"\n",
    "    Preprocess input tensor for categorical likelihood by mapping continuous values \n",
    "    in [0, 1] to discrete category indices in [0, num_categories - 1].\n",
    "\n",
    "    Args:\n",
    "        x: Input tensor with values in [0, 1] of shape [batch_size, data_dim]\n",
    "        num_categories: Number of discrete output categories (default: NUM_CATEGORIES)\n",
    "\n",
    "    Returns:\n",
    "        Tensor of integer indices in [0, num_categories - 1]\n",
    "    \"\"\"\n",
    "    x_scaled = (x * num_categories).long()\n",
    "    x_clamped = torch.clamp(x_scaled, max=num_categories - 1)\n",
    "    return x_clamped"
   ]
  },
  {
   "cell_type": "code",
   "execution_count": 52,
   "id": "de801485",
   "metadata": {},
   "outputs": [],
   "source": [
    "def px_z_categorical(logits: torch.Tensor) -> torch.distributions.Distribution:\n",
    "    \"\"\"\n",
    "    Define the likelihood distribution p(x|z) using a Categorical distribution\n",
    "    for each of the D discrete dimensions.\n",
    "\n",
    "    Args:\n",
    "        logits: Output from the decoder of shape [B, D, C],\n",
    "                where each [D, C] slice defines Categorical logits\n",
    "\n",
    "    Returns:\n",
    "        An Independent distribution over D Categorical distributions\n",
    "    \"\"\"\n",
    "    return Independent(Categorical(logits=logits), reinterpreted_batch_ndims=1)"
   ]
  },
  {
   "cell_type": "code",
   "execution_count": 53,
   "id": "d934f098",
   "metadata": {},
   "outputs": [],
   "source": [
    "def logits_to_pixels_categorical(logits: torch.Tensor, num_categories: int = NUM_CATEGORIES) -> torch.Tensor:\n",
    "    \"\"\"\n",
    "    Convert decoder logits to pixel values of the most probable class from the Categorical distribution.\n",
    "    \n",
    "    Args:\n",
    "        logits: Unbounded output tensor from the decoder network\n",
    "               Shape: [B, D, C]\n",
    "        num_categories: Number of possible categories (C) for normalization\n",
    "               \n",
    "    Returns:\n",
    "        Tensor of sampled pixel values in range [0, 1] with shape [B, D].\n",
    "    \"\"\"\n",
    "    predicted_classes = torch.argmax(logits, dim=-1)\n",
    "    pixel_values = predicted_classes.float() / (num_categories - 1)\n",
    "    return pixel_values"
   ]
  },
  {
   "cell_type": "code",
   "execution_count": 63,
   "id": "2a786bc3",
   "metadata": {
    "id": "2a786bc3"
   },
   "outputs": [],
   "source": [
    "loss_vae_categorical = partial(\n",
    "    loss_vae,\n",
    "    preprocess_x=preprocess_x_categorical,\n",
    "    px_z=px_z_categorical,\n",
    ")"
   ]
  },
  {
   "cell_type": "code",
   "execution_count": 70,
   "id": "0ab89514",
   "metadata": {
    "id": "0ab89514"
   },
   "outputs": [],
   "source": [
    "# Choose appropriate hyper-parameters\n",
    "BATCH_SIZE = 128 # YOU CODE HERE\n",
    "NUM_EPOCHS = 30 # YOU CODE HERE\n",
    "LR = 1e-2 # YOU CODE HERE"
   ]
  },
  {
   "cell_type": "code",
   "execution_count": 71,
   "id": "84aa667e",
   "metadata": {},
   "outputs": [],
   "source": [
    "encoder_categorical = Encoder()\n",
    "decoder_categorical = CategoricalDecoder()"
   ]
  },
  {
   "cell_type": "code",
   "execution_count": 72,
   "id": "5d87b269",
   "metadata": {
    "id": "5d87b269"
   },
   "outputs": [
    {
     "data": {
      "application/vnd.jupyter.widget-view+json": {
       "model_id": "030cb4ccf5194951bbdb64377547490d",
       "version_major": 2,
       "version_minor": 0
      },
      "text/plain": [
       "Epochs:   0%|          | 0/30 [00:00<?, ?epoch/s]"
      ]
     },
     "metadata": {},
     "output_type": "display_data"
    },
    {
     "data": {
      "application/vnd.jupyter.widget-view+json": {
       "model_id": "82bdb5cfaa58402e8e29fc015dc8a190",
       "version_major": 2,
       "version_minor": 0
      },
      "text/plain": [
       "Epoch 1:   0%|          | 0/469 [00:00<?, ?it/s]"
      ]
     },
     "metadata": {},
     "output_type": "display_data"
    },
    {
     "name": "stdout",
     "output_type": "stream",
     "text": [
      "Epoch 1 - Train Loss: 350.6081 | Val Loss: 348.1315\n"
     ]
    },
    {
     "data": {
      "application/vnd.jupyter.widget-view+json": {
       "model_id": "03759998d63c43fdada4cbea9d652685",
       "version_major": 2,
       "version_minor": 0
      },
      "text/plain": [
       "Epoch 2:   0%|          | 0/469 [00:00<?, ?it/s]"
      ]
     },
     "metadata": {},
     "output_type": "display_data"
    },
    {
     "name": "stdout",
     "output_type": "stream",
     "text": [
      "Epoch 2 - Train Loss: 341.3094 | Val Loss: 339.9634\n"
     ]
    },
    {
     "data": {
      "application/vnd.jupyter.widget-view+json": {
       "model_id": "851c0c527c8c4d4fa128ebe4db2128d9",
       "version_major": 2,
       "version_minor": 0
      },
      "text/plain": [
       "Epoch 3:   0%|          | 0/469 [00:00<?, ?it/s]"
      ]
     },
     "metadata": {},
     "output_type": "display_data"
    },
    {
     "name": "stdout",
     "output_type": "stream",
     "text": [
      "Epoch 3 - Train Loss: 337.3495 | Val Loss: 336.3513\n"
     ]
    },
    {
     "data": {
      "application/vnd.jupyter.widget-view+json": {
       "model_id": "6fdd761329764142be6fd74930d76cae",
       "version_major": 2,
       "version_minor": 0
      },
      "text/plain": [
       "Epoch 4:   0%|          | 0/469 [00:00<?, ?it/s]"
      ]
     },
     "metadata": {},
     "output_type": "display_data"
    },
    {
     "name": "stdout",
     "output_type": "stream",
     "text": [
      "Epoch 4 - Train Loss: 334.3379 | Val Loss: 335.7966\n"
     ]
    },
    {
     "data": {
      "application/vnd.jupyter.widget-view+json": {
       "model_id": "24856c8d04c4434d8bcb5e91b87e7366",
       "version_major": 2,
       "version_minor": 0
      },
      "text/plain": [
       "Epoch 5:   0%|          | 0/469 [00:00<?, ?it/s]"
      ]
     },
     "metadata": {},
     "output_type": "display_data"
    },
    {
     "name": "stdout",
     "output_type": "stream",
     "text": [
      "Epoch 5 - Train Loss: 345.1637 | Val Loss: 334.5417\n"
     ]
    },
    {
     "data": {
      "application/vnd.jupyter.widget-view+json": {
       "model_id": "9266954b84bd45a1894b86e8fcf83344",
       "version_major": 2,
       "version_minor": 0
      },
      "text/plain": [
       "Epoch 6:   0%|          | 0/469 [00:00<?, ?it/s]"
      ]
     },
     "metadata": {},
     "output_type": "display_data"
    },
    {
     "name": "stdout",
     "output_type": "stream",
     "text": [
      "Epoch 6 - Train Loss: 329.5999 | Val Loss: 334.7794\n"
     ]
    },
    {
     "data": {
      "application/vnd.jupyter.widget-view+json": {
       "model_id": "4fea46fb793d4d6d8b506aa72bc83bc5",
       "version_major": 2,
       "version_minor": 0
      },
      "text/plain": [
       "Epoch 7:   0%|          | 0/469 [00:00<?, ?it/s]"
      ]
     },
     "metadata": {},
     "output_type": "display_data"
    },
    {
     "name": "stdout",
     "output_type": "stream",
     "text": [
      "Epoch 7 - Train Loss: 331.7914 | Val Loss: 336.2832\n"
     ]
    },
    {
     "data": {
      "application/vnd.jupyter.widget-view+json": {
       "model_id": "132c1eeffe294835b61009bea47c9f7f",
       "version_major": 2,
       "version_minor": 0
      },
      "text/plain": [
       "Epoch 8:   0%|          | 0/469 [00:00<?, ?it/s]"
      ]
     },
     "metadata": {},
     "output_type": "display_data"
    },
    {
     "name": "stdout",
     "output_type": "stream",
     "text": [
      "Epoch 8 - Train Loss: 324.5397 | Val Loss: 335.0588\n"
     ]
    },
    {
     "data": {
      "application/vnd.jupyter.widget-view+json": {
       "model_id": "32529bb8681f400696b28aa032554a6a",
       "version_major": 2,
       "version_minor": 0
      },
      "text/plain": [
       "Epoch 9:   0%|          | 0/469 [00:00<?, ?it/s]"
      ]
     },
     "metadata": {},
     "output_type": "display_data"
    },
    {
     "name": "stdout",
     "output_type": "stream",
     "text": [
      "Epoch 9 - Train Loss: 354.3278 | Val Loss: 333.2219\n"
     ]
    },
    {
     "data": {
      "application/vnd.jupyter.widget-view+json": {
       "model_id": "c336c9d8f84e436e9cf5e9010991c962",
       "version_major": 2,
       "version_minor": 0
      },
      "text/plain": [
       "Epoch 10:   0%|          | 0/469 [00:00<?, ?it/s]"
      ]
     },
     "metadata": {},
     "output_type": "display_data"
    },
    {
     "name": "stdout",
     "output_type": "stream",
     "text": [
      "Epoch 10 - Train Loss: 332.8677 | Val Loss: 334.7775\n"
     ]
    },
    {
     "data": {
      "application/vnd.jupyter.widget-view+json": {
       "model_id": "b69eba6ee85242d2810abb21d9f34152",
       "version_major": 2,
       "version_minor": 0
      },
      "text/plain": [
       "Epoch 11:   0%|          | 0/469 [00:00<?, ?it/s]"
      ]
     },
     "metadata": {},
     "output_type": "display_data"
    },
    {
     "name": "stdout",
     "output_type": "stream",
     "text": [
      "Epoch 11 - Train Loss: 336.2194 | Val Loss: 332.3717\n"
     ]
    },
    {
     "data": {
      "application/vnd.jupyter.widget-view+json": {
       "model_id": "38c37323be664769b8c4a118c234d881",
       "version_major": 2,
       "version_minor": 0
      },
      "text/plain": [
       "Epoch 12:   0%|          | 0/469 [00:00<?, ?it/s]"
      ]
     },
     "metadata": {},
     "output_type": "display_data"
    },
    {
     "name": "stdout",
     "output_type": "stream",
     "text": [
      "Epoch 12 - Train Loss: 323.7197 | Val Loss: 335.2341\n"
     ]
    },
    {
     "data": {
      "application/vnd.jupyter.widget-view+json": {
       "model_id": "95a538c1526648d6b7c9e32d793a3877",
       "version_major": 2,
       "version_minor": 0
      },
      "text/plain": [
       "Epoch 13:   0%|          | 0/469 [00:00<?, ?it/s]"
      ]
     },
     "metadata": {},
     "output_type": "display_data"
    },
    {
     "name": "stdout",
     "output_type": "stream",
     "text": [
      "Epoch 13 - Train Loss: 325.2493 | Val Loss: 332.4553\n"
     ]
    },
    {
     "data": {
      "application/vnd.jupyter.widget-view+json": {
       "model_id": "8f514a0705f14cf7a50227ec655c64d9",
       "version_major": 2,
       "version_minor": 0
      },
      "text/plain": [
       "Epoch 14:   0%|          | 0/469 [00:00<?, ?it/s]"
      ]
     },
     "metadata": {},
     "output_type": "display_data"
    },
    {
     "name": "stdout",
     "output_type": "stream",
     "text": [
      "Epoch 14 - Train Loss: 338.7280 | Val Loss: 332.5348\n"
     ]
    },
    {
     "data": {
      "application/vnd.jupyter.widget-view+json": {
       "model_id": "cfddadf45c354a198ad7efa237f02966",
       "version_major": 2,
       "version_minor": 0
      },
      "text/plain": [
       "Epoch 15:   0%|          | 0/469 [00:00<?, ?it/s]"
      ]
     },
     "metadata": {},
     "output_type": "display_data"
    },
    {
     "name": "stdout",
     "output_type": "stream",
     "text": [
      "Epoch 15 - Train Loss: 337.3816 | Val Loss: 333.0222\n"
     ]
    },
    {
     "data": {
      "application/vnd.jupyter.widget-view+json": {
       "model_id": "dff6c40032e640b09ab68ba55df791ba",
       "version_major": 2,
       "version_minor": 0
      },
      "text/plain": [
       "Epoch 16:   0%|          | 0/469 [00:00<?, ?it/s]"
      ]
     },
     "metadata": {},
     "output_type": "display_data"
    },
    {
     "name": "stdout",
     "output_type": "stream",
     "text": [
      "Epoch 16 - Train Loss: 323.5115 | Val Loss: 333.6316\n"
     ]
    },
    {
     "data": {
      "application/vnd.jupyter.widget-view+json": {
       "model_id": "743b6c09a18a45658c79a2b8d11e7d1b",
       "version_major": 2,
       "version_minor": 0
      },
      "text/plain": [
       "Epoch 17:   0%|          | 0/469 [00:00<?, ?it/s]"
      ]
     },
     "metadata": {},
     "output_type": "display_data"
    },
    {
     "name": "stdout",
     "output_type": "stream",
     "text": [
      "Epoch 17 - Train Loss: 327.6814 | Val Loss: 332.8437\n"
     ]
    },
    {
     "data": {
      "application/vnd.jupyter.widget-view+json": {
       "model_id": "aebaf7ab63c447a6b3fa15ddb163f87c",
       "version_major": 2,
       "version_minor": 0
      },
      "text/plain": [
       "Epoch 18:   0%|          | 0/469 [00:00<?, ?it/s]"
      ]
     },
     "metadata": {},
     "output_type": "display_data"
    },
    {
     "name": "stdout",
     "output_type": "stream",
     "text": [
      "Epoch 18 - Train Loss: 339.6009 | Val Loss: 332.8754\n"
     ]
    },
    {
     "data": {
      "application/vnd.jupyter.widget-view+json": {
       "model_id": "edd0f786b98c4ce58d2d1e9138c09515",
       "version_major": 2,
       "version_minor": 0
      },
      "text/plain": [
       "Epoch 19:   0%|          | 0/469 [00:00<?, ?it/s]"
      ]
     },
     "metadata": {},
     "output_type": "display_data"
    },
    {
     "name": "stdout",
     "output_type": "stream",
     "text": [
      "Epoch 19 - Train Loss: 337.2878 | Val Loss: 333.9940\n"
     ]
    },
    {
     "data": {
      "application/vnd.jupyter.widget-view+json": {
       "model_id": "a230e9538ebc47b59f6b9ef51fd70631",
       "version_major": 2,
       "version_minor": 0
      },
      "text/plain": [
       "Epoch 20:   0%|          | 0/469 [00:00<?, ?it/s]"
      ]
     },
     "metadata": {},
     "output_type": "display_data"
    },
    {
     "name": "stdout",
     "output_type": "stream",
     "text": [
      "Epoch 20 - Train Loss: 345.4204 | Val Loss: 332.0672\n"
     ]
    },
    {
     "data": {
      "application/vnd.jupyter.widget-view+json": {
       "model_id": "cc8d78fe6b75411eb520c1a7f57c4138",
       "version_major": 2,
       "version_minor": 0
      },
      "text/plain": [
       "Epoch 21:   0%|          | 0/469 [00:00<?, ?it/s]"
      ]
     },
     "metadata": {},
     "output_type": "display_data"
    },
    {
     "name": "stdout",
     "output_type": "stream",
     "text": [
      "Epoch 21 - Train Loss: 333.9420 | Val Loss: 333.4245\n"
     ]
    },
    {
     "data": {
      "application/vnd.jupyter.widget-view+json": {
       "model_id": "b4f8a9c540634d53b6cf539ea2f98205",
       "version_major": 2,
       "version_minor": 0
      },
      "text/plain": [
       "Epoch 22:   0%|          | 0/469 [00:00<?, ?it/s]"
      ]
     },
     "metadata": {},
     "output_type": "display_data"
    },
    {
     "name": "stdout",
     "output_type": "stream",
     "text": [
      "Epoch 22 - Train Loss: 331.2869 | Val Loss: 332.2778\n"
     ]
    },
    {
     "data": {
      "application/vnd.jupyter.widget-view+json": {
       "model_id": "0e59a52f9d204ac1b7f3358fff06cb1f",
       "version_major": 2,
       "version_minor": 0
      },
      "text/plain": [
       "Epoch 23:   0%|          | 0/469 [00:00<?, ?it/s]"
      ]
     },
     "metadata": {},
     "output_type": "display_data"
    },
    {
     "name": "stdout",
     "output_type": "stream",
     "text": [
      "Epoch 23 - Train Loss: 306.5424 | Val Loss: 332.5688\n"
     ]
    },
    {
     "data": {
      "application/vnd.jupyter.widget-view+json": {
       "model_id": "cafb4ac756b748b49442ddf81092324e",
       "version_major": 2,
       "version_minor": 0
      },
      "text/plain": [
       "Epoch 24:   0%|          | 0/469 [00:00<?, ?it/s]"
      ]
     },
     "metadata": {},
     "output_type": "display_data"
    },
    {
     "name": "stdout",
     "output_type": "stream",
     "text": [
      "Epoch 24 - Train Loss: 337.0726 | Val Loss: 333.2475\n"
     ]
    },
    {
     "data": {
      "application/vnd.jupyter.widget-view+json": {
       "model_id": "eda206f068c04482b3e08c7b76469592",
       "version_major": 2,
       "version_minor": 0
      },
      "text/plain": [
       "Epoch 25:   0%|          | 0/469 [00:00<?, ?it/s]"
      ]
     },
     "metadata": {},
     "output_type": "display_data"
    },
    {
     "name": "stdout",
     "output_type": "stream",
     "text": [
      "Epoch 25 - Train Loss: 349.6365 | Val Loss: 332.2326\n"
     ]
    },
    {
     "data": {
      "application/vnd.jupyter.widget-view+json": {
       "model_id": "fc2171df20004e7d97fb181fbdc832ff",
       "version_major": 2,
       "version_minor": 0
      },
      "text/plain": [
       "Epoch 26:   0%|          | 0/469 [00:00<?, ?it/s]"
      ]
     },
     "metadata": {},
     "output_type": "display_data"
    },
    {
     "name": "stdout",
     "output_type": "stream",
     "text": [
      "Epoch 26 - Train Loss: 345.8767 | Val Loss: 332.4718\n"
     ]
    },
    {
     "data": {
      "application/vnd.jupyter.widget-view+json": {
       "model_id": "f80a9eb30cd1485196df76cb0adf2cf8",
       "version_major": 2,
       "version_minor": 0
      },
      "text/plain": [
       "Epoch 27:   0%|          | 0/469 [00:00<?, ?it/s]"
      ]
     },
     "metadata": {},
     "output_type": "display_data"
    },
    {
     "name": "stdout",
     "output_type": "stream",
     "text": [
      "Epoch 27 - Train Loss: 324.9321 | Val Loss: 332.9083\n"
     ]
    },
    {
     "data": {
      "application/vnd.jupyter.widget-view+json": {
       "model_id": "f586e802a3614a50aae561797ce58111",
       "version_major": 2,
       "version_minor": 0
      },
      "text/plain": [
       "Epoch 28:   0%|          | 0/469 [00:00<?, ?it/s]"
      ]
     },
     "metadata": {},
     "output_type": "display_data"
    },
    {
     "name": "stdout",
     "output_type": "stream",
     "text": [
      "Epoch 28 - Train Loss: 334.0983 | Val Loss: 332.4423\n"
     ]
    },
    {
     "data": {
      "application/vnd.jupyter.widget-view+json": {
       "model_id": "d78fb2e2c0344d0ab44338e47f283078",
       "version_major": 2,
       "version_minor": 0
      },
      "text/plain": [
       "Epoch 29:   0%|          | 0/469 [00:00<?, ?it/s]"
      ]
     },
     "metadata": {},
     "output_type": "display_data"
    },
    {
     "name": "stdout",
     "output_type": "stream",
     "text": [
      "Epoch 29 - Train Loss: 340.0459 | Val Loss: 333.5210\n"
     ]
    },
    {
     "data": {
      "application/vnd.jupyter.widget-view+json": {
       "model_id": "5bd6368347954b5c99ca338f4cf9fa8d",
       "version_major": 2,
       "version_minor": 0
      },
      "text/plain": [
       "Epoch 30:   0%|          | 0/469 [00:00<?, ?it/s]"
      ]
     },
     "metadata": {},
     "output_type": "display_data"
    },
    {
     "name": "stdout",
     "output_type": "stream",
     "text": [
      "Epoch 30 - Train Loss: 333.7072 | Val Loss: 332.0256\n"
     ]
    }
   ],
   "source": [
    "train_losses, val_losses = train_model(\n",
    "    loss_fn=loss_vae_categorical,\n",
    "    encoder=encoder_categorical,\n",
    "    decoder=decoder_categorical,\n",
    "    train_dataset=train_dataset,\n",
    "    test_dataset=test_dataset,\n",
    "    batch_size=BATCH_SIZE,\n",
    "    num_epochs=NUM_EPOCHS,\n",
    "    learning_rate=LR,\n",
    ")"
   ]
  },
  {
   "cell_type": "code",
   "execution_count": 73,
   "id": "95346beb",
   "metadata": {},
   "outputs": [
    {
     "data": {
      "image/png": "[encoded data removed]",
      "text/plain": [
       "<Figure size 1400x700 with 50 Axes>"
      ]
     },
     "metadata": {},
     "output_type": "display_data"
    }
   ],
   "source": [
    "visualize_samples(generate_vae_samples(decoder=decoder_categorical, logits_to_pixels=logits_to_pixels_categorical))"
   ]
  },
  {
   "cell_type": "code",
   "execution_count": 75,
   "id": "34e0826d",
   "metadata": {
    "id": "34e0826d"
   },
   "outputs": [
    {
     "data": {
      "image/png": "[encoded data removed]",
      "text/plain": [
       "<Figure size 640x480 with 1 Axes>"
      ]
     },
     "metadata": {},
     "output_type": "display_data"
    },
    {
     "name": "stdout",
     "output_type": "stream",
     "text": [
      "Final ROC-AUC Score: 0.992\n"
     ]
    }
   ],
   "source": [
    "# Prepare and split data\n",
    "X, y = prepare_dataset(decoder_categorical, logits_to_pixels_categorical, test_dataset, num_samples=NUM_SAMPLES) # YOU CODE HERE\n",
    "X_train, X_val, y_train, y_val = train_test_split(X, y, test_size=0.2, random_state=42) # YOU CODE HERE\n",
    "\n",
    "# Train and evaluate\n",
    "discriminator = train_discriminator(X_train, y_train)\n",
    "roc_score = evaluate_model(discriminator, X_val, y_val)\n",
    "print(f\"Final ROC-AUC Score: {roc_score:.3f}\")"
   ]
  },
  {
   "cell_type": "markdown",
   "id": "16e83d33",
   "metadata": {},
   "source": [
    "**Observations:** The Categorical VAE performs almost as well as the Bernoulli one, but its generated samples seem slightly closer to real data — shown by the slightly lower ROC-AUC score."
   ]
  },
  {
   "cell_type": "markdown",
   "id": "67c74b91",
   "metadata": {},
   "source": []
  }
 ],
 "metadata": {
  "colab": {
   "provenance": []
  },
  "kernelspec": {
   "display_name": ".venv",
   "language": "python",
   "name": "python3"
  },
  "language_info": {
   "codemirror_mode": {
    "name": "ipython",
    "version": 3
   },
   "file_extension": ".py",
   "mimetype": "text/x-python",
   "name": "python",
   "nbconvert_exporter": "python",
   "pygments_lexer": "ipython3",
   "version": "3.10.16"
  }
 },
 "nbformat": 4,
 "nbformat_minor": 5
}
