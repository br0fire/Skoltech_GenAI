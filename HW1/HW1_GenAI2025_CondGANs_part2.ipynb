{
 "cells": [
  {
   "cell_type": "markdown",
   "metadata": {
    "id": "yDhR1p6w4IIX"
   },
   "source": [
    "# **Part 2: Class-Conditional GANs for Image Generation** (20 points)\n",
    "\n",
    "### **Learning Objectives**\n",
    "- Implement and train a class-conditional GAN on `MNIST`\n",
    "- Quantitatively evaluate model performance using `Fréchet Inception Distance (FID)`\n",
    "\n",
    "### **Implementation Tasks**\n",
    "1. **Model Training**:\n",
    "   - Train a class-conditional GANs that generates MNIST digits\n",
    "        - Vanilla GAN Loss\n",
    "        - Non-Saturating Loss with $R_1$ regularization\n",
    "        - Non-Saturating Loss with $R_1$ regularization and unconditional discriminator\n",
    "\n",
    "2. **Performance Evaluation**:\n",
    "   - Compute FID scores between generated and real MNIST samples\n",
    "   - Compare results across different training configurations\n",
    "\n",
    "### **Resources**\n",
    "\n",
    "- **GAN's Tutorial:** [From GAN to WGAN](https://lilianweng.github.io/posts/2017-08-20-gan/)\n",
    "\n",
    "- **Implementation Examples:** [PyTorch-GAN Repo](https://github.com/eriklindernoren/PyTorch-GAN/tree/master)"
   ]
  },
  {
   "cell_type": "code",
   "execution_count": 31,
   "metadata": {},
   "outputs": [],
   "source": [
    "#!pip install torchmetrics[image] -q"
   ]
  },
  {
   "cell_type": "code",
   "execution_count": 32,
   "metadata": {},
   "outputs": [],
   "source": [
    "import matplotlib.pyplot as plt\n",
    "import numpy as np\n",
    "import torch\n",
    "import torch.nn as nn\n",
    "import torch.nn.functional as F\n",
    "from IPython.display import clear_output\n",
    "from torch.utils.data import DataLoader\n",
    "from torchmetrics.image.fid import FrechetInceptionDistance\n",
    "import torchvision.transforms.functional as TF\n",
    "from torchvision import transforms\n",
    "from torchvision.datasets import MNIST\n",
    "from tqdm import tqdm"
   ]
  },
  {
   "cell_type": "code",
   "execution_count": 33,
   "metadata": {},
   "outputs": [
    {
     "data": {
      "text/plain": [
       "device(type='cuda', index=0)"
      ]
     },
     "execution_count": 33,
     "metadata": {},
     "output_type": "execute_result"
    }
   ],
   "source": [
    "DEVICE = torch.device(f\"cuda:{torch.cuda.current_device()}\" if torch.cuda.is_available() else \"cpu\")\n",
    "DEVICE"
   ]
  },
  {
   "cell_type": "markdown",
   "metadata": {},
   "source": [
    "## 1. Dataset Preparation (1 point)\n",
    "\n",
    "Use the MNIST dataset from `torchvision.datasets`. Note that the sampled batches $B_{ds}$ from the dataset must include the class labels of the images."
   ]
  },
  {
   "cell_type": "code",
   "execution_count": 34,
   "metadata": {},
   "outputs": [],
   "source": [
    "pix_range = (-1., 1.)\n",
    "_m, _std = pix_range[0]/float(pix_range[0] - pix_range[1]), 1./float(pix_range[1] - pix_range[0])\n",
    "\n",
    "transform = transforms.Compose([\n",
    "    transforms.ToTensor(),\n",
    "    transforms.Normalize([_m],[_std]) \n",
    "])\n",
    "\n",
    "mnist_dataset = MNIST(\n",
    "    root='./',      # where to store/download the data\n",
    "    train=True,         # use the training split\n",
    "    download=False,      # download if not already there\n",
    "    transform=transform # apply the transforms\n",
    ")\n",
    "\n",
    "batch_size = 10\n",
    "dataloader = DataLoader(\n",
    "    mnist_dataset,\n",
    "    batch_size=batch_size,\n",
    "    shuffle=True        # shuffle for each epoch\n",
    ")"
   ]
  },
  {
   "cell_type": "code",
   "execution_count": 35,
   "metadata": {},
   "outputs": [
    {
     "data": {
      "text/plain": [
       "torch.Size([1, 28, 28])"
      ]
     },
     "execution_count": 35,
     "metadata": {},
     "output_type": "execute_result"
    }
   ],
   "source": [
    "mnist_dataset[0][0].shape"
   ]
  },
  {
   "cell_type": "code",
   "execution_count": 36,
   "metadata": {},
   "outputs": [
    {
     "data": {
      "image/png": "[encoded data removed]",
      "text/plain": [
       "<Figure size 1200x200 with 10 Axes>"
      ]
     },
     "metadata": {},
     "output_type": "display_data"
    }
   ],
   "source": [
    "def show_batch(data_loader: DataLoader):\n",
    "    images, labels = next(iter(data_loader))     # grab one batch\n",
    "    fig, axes = plt.subplots(1, len(images), figsize=(12, 2))\n",
    "    for ax, img, lbl in zip(axes, images, labels):\n",
    "        ax.imshow(img.squeeze(), cmap='gray')\n",
    "        ax.set_title(f\"Class: {lbl.item()}\")\n",
    "        ax.axis('off')\n",
    "    plt.tight_layout()\n",
    "    plt.show()\n",
    "\n",
    "\n",
    "show_batch(dataloader)"
   ]
  },
  {
   "cell_type": "markdown",
   "metadata": {},
   "source": [
    "## 2. Generator and Discriminator architecture (3 points)  \n",
    "\n",
    "In this task you should implement architecture for generator and discriminator models.\n",
    "\n",
    "The generator model ${\\color{blue}G_\\theta}(z, c)$ should take as input:  \n",
    "- A latent vector $z \\sim {\\color{purple}p_Z}(\\cdot)$  \n",
    "- A class label $\\color{orange}c$ (digit)  \n",
    "\n",
    "The class-conditional discriminator ${\\color{red}D_\\omega}(x, c)$ must accept:  \n",
    "- Real/generated `MNIST` images $x$ \n",
    "- The corresponding class label $\\color{orange}c$  \n",
    "\n",
    "**Note:** When working with images, it is common to use **Convolutional Neural Networks (CNNs)**. Such architectures were covered in **Assignment 3.2** during the **1st GAN seminar**.  \n",
    "\n",
    "There are various approaches to applying conditions—in this task, you must implement the simplest method:  \n",
    "- Use `nn.Embedding` to obtain embeddings for class vectors (of the required dimension)  \n",
    "- Feed the generator (or discriminator) the concatenation of either:  \n",
    "  - Noise + corresponding class embeddings (for the generator)  \n",
    "  - Images + corresponding class embeddings (for the discriminator)  "
   ]
  },
  {
   "cell_type": "code",
   "execution_count": 37,
   "metadata": {},
   "outputs": [],
   "source": [
    "def plot_images(batch_x: torch.Tensor, batch_y: torch.Tensor, title: str | None = None):\n",
    "    fig, axes = plt.subplots(1, 10, figsize=(10, 2))\n",
    "    if title is not None:\n",
    "        fig.suptitle(title)\n",
    "    for i in range(10):\n",
    "        axes[i].set_title(f\"Label: {round(batch_y[i].item())}\")\n",
    "        axes[i].imshow(batch_x[i].squeeze(), cmap=\"gray\")\n",
    "        axes[i].set_xticks([])\n",
    "        axes[i].set_yticks([])\n",
    "    fig.tight_layout(pad=0.1)\n",
    "    plt.show()\n",
    "\n",
    "\n",
    "def plot_losses(gen_losses: list[float], disc_losses: list[float]) -> None:\n",
    "    _, axes = plt.subplots(1, 2, figsize=(10, 3))\n",
    "    axes[0].plot(gen_losses)\n",
    "    axes[0].set_title(\"Generator Loss\")\n",
    "    axes[0].set_xlabel(\"Epoch\")\n",
    "    axes[0].grid(\"on\")\n",
    "\n",
    "    axes[1].plot(disc_losses)\n",
    "    axes[1].set_title(\"Discriminator Loss\")\n",
    "    axes[1].set_xlabel(\"Epoch\")\n",
    "    axes[1].grid(\"on\")\n",
    "    plt.show()"
   ]
  },
  {
   "cell_type": "markdown",
   "metadata": {},
   "source": [
    "**Select a model architecture.** You may:  \n",
    "- Use an entirely new class, **or**  \n",
    "- Adapt the proposed structure.  \n",
    "\n",
    "For implementation guidance, you may refer to:  \n",
    "- Seminar materials  \n",
    "- [PyTorch’s DCGAN Tutorial](https://pytorch.org/tutorials/beginner/dcgan_faces_tutorial.html)  "
   ]
  },
  {
   "cell_type": "code",
   "execution_count": 38,
   "metadata": {},
   "outputs": [],
   "source": [
    "# IMAGE_SIZE = 28       # MNIST images are 28x28\n",
    "# NUM_IMAGE_CHANNELS = 1 # Number of channels in the training images (MNIST is grayscale)\n",
    "# NOISE_DIM = 100       # Size of latent vector (input_size for Generator) - matching signature default\n",
    "# NGF = 64              # Size of feature maps in generator\n",
    "# NDF = 64              # Size of feature maps in discriminator\n",
    "# NUM_CLASSES = 10      # MNIST has 10 classes (0-9) - matching signature default\n",
    "# EMBEDDING_DIM = 50    # Dimension of the class embedding (internal hyperparameter)"
   ]
  },
  {
   "cell_type": "code",
   "execution_count": 77,
   "metadata": {},
   "outputs": [],
   "source": [
    "import torch\n",
    "import torch.nn as nn\n",
    "\n",
    "class ConditionalConvGenerator(nn.Module):\n",
    "    def __init__(\n",
    "        self,\n",
    "        input_size: int = 128,\n",
    "        num_classes: int = 10,\n",
    "        device: torch.device = DEVICE,\n",
    "    ) -> None:\n",
    "        super().__init__()\n",
    "        self.input_size = input_size\n",
    "        self.n_channels = 64  # base channel count\n",
    "        self.num_classes = num_classes\n",
    "        self.device = device\n",
    "\n",
    "        # embedding for class labels\n",
    "        self.label_embedding = nn.Embedding(num_classes, input_size)\n",
    "\n",
    "        # project (noise + label) to feature map\n",
    "        self.linear_block = nn.Sequential(\n",
    "            nn.Linear(input_size * 2, self.n_channels * 7 * 7),\n",
    "            nn.BatchNorm1d(self.n_channels * 7 * 7),\n",
    "            nn.ReLU(True),\n",
    "        )\n",
    "        # upsample to 28x28\n",
    "        self.conv_block = nn.Sequential(\n",
    "            nn.ConvTranspose2d(\n",
    "                self.n_channels, self.n_channels // 2, kernel_size=4, stride=2, padding=1\n",
    "            ),\n",
    "            nn.BatchNorm2d(self.n_channels // 2),\n",
    "            nn.ReLU(True),\n",
    "            nn.ConvTranspose2d(\n",
    "                self.n_channels // 2,\n",
    "                self.n_channels // 4,\n",
    "                kernel_size=4,\n",
    "                stride=2,\n",
    "                padding=1,\n",
    "            ),\n",
    "            nn.BatchNorm2d(self.n_channels // 4),\n",
    "            nn.ReLU(True),\n",
    "            nn.Conv2d(self.n_channels // 4, 1, kernel_size=3, padding=1),\n",
    "            nn.Tanh(),\n",
    "        )\n",
    "\n",
    "        # standard normal noise distribution\n",
    "        self.noise = torch.distributions.Normal(\n",
    "            torch.tensor(0.0, device=self.device),\n",
    "            torch.tensor(1.0, device=self.device),\n",
    "        )\n",
    "\n",
    "    def forward(self, z: torch.Tensor, labels: torch.Tensor) -> torch.Tensor:\n",
    "        # z: (batch, input_size)\n",
    "        # labels: (batch,)\n",
    "        batch_size = z.size(0)\n",
    "        # embed labels and concatenate\n",
    "        label_vec = self.label_embedding(labels.to(self.device))  # (batch, input_size)\n",
    "        x = torch.cat([z, label_vec], dim=1)  # (batch, 2*input_size)\n",
    "\n",
    "        # project and reshape\n",
    "        x = self.linear_block(x)\n",
    "        x = x.view(batch_size, self.n_channels, 7, 7)\n",
    "        # upsample to image\n",
    "        x = self.conv_block(x)\n",
    "        return x  # (batch, 1, 28, 28)\n",
    "\n",
    "    def sample(self, num_samples: int, labels: torch.Tensor) -> torch.Tensor:\n",
    "        # sample random noise\n",
    "        z = self.noise.sample([num_samples, self.input_size]).to(self.device)\n",
    "        return self.forward(z, labels)\n",
    "\n",
    "\n",
    "class ConditionalConvDiscriminator(nn.Module):\n",
    "    def __init__(\n",
    "        self,\n",
    "        num_classes: int = 10,\n",
    "        device: torch.device = DEVICE,\n",
    "    ) -> None:\n",
    "        super().__init__()\n",
    "        self.num_classes = num_classes\n",
    "        self.n_channels = 64\n",
    "        self.device = device\n",
    "\n",
    "        # embedding for class labels to full image size\n",
    "        self.label_embedding = nn.Embedding(num_classes, 28 * 28)\n",
    "\n",
    "        # convolutional backbone: input channels = 1 (image) + 1 (label map)\n",
    "        self.net = nn.Sequential(\n",
    "            nn.Conv2d(2, self.n_channels, kernel_size=3, stride=2, padding=1),\n",
    "            nn.LeakyReLU(0.2, inplace=True),\n",
    "\n",
    "            nn.Conv2d(self.n_channels, 2 * self.n_channels, kernel_size=3, stride=2, padding=1),\n",
    "            nn.BatchNorm2d(2 * self.n_channels),\n",
    "            nn.LeakyReLU(0.2, inplace=True),\n",
    "\n",
    "            nn.Conv2d(2 * self.n_channels, 4 * self.n_channels, kernel_size=3, stride=2, padding=1),\n",
    "            nn.BatchNorm2d(4 * self.n_channels),\n",
    "            nn.LeakyReLU(0.2, inplace=True),\n",
    "        )\n",
    "        # final linear layer\n",
    "        # input feature map size = 4*n_channels x 3 x 3\n",
    "        self.linear = nn.Linear(4 * self.n_channels * 4 * 4, 1)\n",
    "\n",
    "    def forward(self, x: torch.Tensor, labels: torch.Tensor) -> torch.Tensor:\n",
    "        # x: (batch, 1, 28, 28)\n",
    "        # labels: (batch,)\n",
    "        batch_size = x.size(0)\n",
    "        # get label maps\n",
    "        label_map = self.label_embedding(labels.to(self.device))\n",
    "        label_map = label_map.view(batch_size, 1, 28, 28)\n",
    "        # concatenate image and label map\n",
    "        x = torch.cat([x.to(self.device), label_map], dim=1)  # (batch, 2, 28, 28)\n",
    "        # conv backbone\n",
    "        x = self.net(x)\n",
    "        x = x.view(batch_size, -1)\n",
    "        logits = self.linear(x)\n",
    "        return logits\n",
    "\n",
    "\n",
    "class VanillaConditionalConvDiscriminator(ConditionalConvDiscriminator):\n",
    "    def forward(self, x: torch.Tensor, labels: torch.Tensor) -> torch.Tensor:\n",
    "        logits = super().forward(x, labels)\n",
    "        probs = torch.sigmoid(logits)\n",
    "        return probs"
   ]
  },
  {
   "cell_type": "markdown",
   "metadata": {},
   "source": [
    "## 3. Training Algorithm for Class-Conditional GAN Model (7 points)  \n",
    "Implement the training of a class-conditional GAN model. There are different ways to incorporate the condition—in this task, you need to implement the simplest approach: using `nn.Embedding` to obtain embeddings for the class vector (of the required dimension) and feeding the concatenation of the noise (or image) and the corresponding class embeddings as input to the generator (or discriminator).\n",
    "\n",
    "For the GAN loss, use:  \n",
    "1. **Vanilla GAN loss (3 point)**  \n",
    "2. **Non-saturating GAN loss (with $R_1$ regularization)** as discussed in the seminar **(3 points)**  \n",
    "\n",
    "During training, when generating a batch $B_{GAN}$ using the GAN, use **exactly the same class labels** as those provided in the batch from the true distribution $B_{ds}$."
   ]
  },
  {
   "cell_type": "markdown",
   "metadata": {},
   "source": [
    "### 3.1 Training class conditioned GANs with Vanilla GAN loss (3 points)"
   ]
  },
  {
   "cell_type": "markdown",
   "metadata": {},
   "source": [
    "You need to adapt code from the seminar to conditional setup."
   ]
  },
  {
   "cell_type": "code",
   "execution_count": 40,
   "metadata": {},
   "outputs": [],
   "source": [
    "\n",
    "# def vanilla_gen_cond_step(\n",
    "#     X: torch.Tensor, labels: torch.Tensor, G: nn.Module, D: nn.Module, G_optim: torch.optim.Optimizer\n",
    "# ) -> torch.Tensor:\n",
    "#     G_optim.zero_grad()\n",
    "#     batch_size = X.size(0)\n",
    "#     fake_images = G.sample(batch_size, labels)\n",
    "#     fake_output = D(fake_images, labels)\n",
    "#     g_loss = F.binary_cross_entropy(fake_output, torch.ones_like(fake_output))\n",
    "#     g_loss.backward()\n",
    "#     G_optim.step()\n",
    "#     return g_loss.item()\n",
    "\n",
    "\n",
    "# def vanilla_discr_cond_step(\n",
    "#     X: torch.Tensor,\n",
    "#     labels: torch.Tensor,\n",
    "#     G: nn.Module,\n",
    "#     D: nn.Module,\n",
    "#     D_optim: torch.optim.Optimizer,\n",
    "# ) -> torch.Tensor:\n",
    "#     D_optim.zero_grad()\n",
    "#     batch_size = X.size(0)\n",
    "#     real_output = D(X, labels)\n",
    "#     real_loss = F.binary_cross_entropy(real_output, torch.ones_like(real_output))\n",
    "#     z = torch.randn(batch_size, G.input_size, device=G.device)\n",
    "#     fake_images = G(z, labels).detach()\n",
    "#     fake_output = D(fake_images, labels)\n",
    "#     fake_loss = F.binary_cross_entropy(fake_output, torch.zeros_like(fake_output))\n",
    "#     d_loss = real_loss + fake_loss\n",
    "#     d_loss.backward()\n",
    "#     D_optim.step()\n",
    "#     return d_loss.item()"
   ]
  },
  {
   "cell_type": "code",
   "execution_count": 41,
   "metadata": {},
   "outputs": [],
   "source": [
    "def vanilla_gen_cond_step(\n",
    "    X: torch.Tensor, labels: int, G: nn.Module, D: nn.Module, G_optim: torch.optim.Optimizer\n",
    ") -> torch.Tensor:\n",
    "    # G.train()\n",
    "    # D.eval()\n",
    "    batch_size = X.size(0)\n",
    "    X_gen = G.sample(batch_size, labels)\n",
    "    scores_gen = D(X_gen, labels)\n",
    "    loss = - F.binary_cross_entropy(scores_gen, torch.zeros_like(scores_gen))\n",
    "    G_optim.zero_grad()\n",
    "    loss.backward()\n",
    "    G_optim.step()\n",
    "    return loss.item()"
   ]
  },
  {
   "cell_type": "code",
   "execution_count": 42,
   "metadata": {},
   "outputs": [],
   "source": [
    "def vanilla_discr_cond_step(\n",
    "    X: torch.Tensor,\n",
    "    labels: torch.Tensor,\n",
    "    G: nn.Module,\n",
    "    D: nn.Module,\n",
    "    D_optim: torch.optim.Optimizer,\n",
    ") -> torch.Tensor:\n",
    "    # G.eval()\n",
    "    # D.train()\n",
    "    batch_size = X.size(0)\n",
    "    with torch.no_grad():\n",
    "        X_gen = G.sample(batch_size, labels)\n",
    "    scores_gen = D(X_gen, labels)\n",
    "    scores_real = D(X, labels)\n",
    "    loss_gen = F.binary_cross_entropy(scores_gen, torch.zeros_like(scores_gen))\n",
    "    loss_real = F.binary_cross_entropy(scores_real, torch.ones_like(scores_real))\n",
    "    loss = loss_gen + loss_real\n",
    "\n",
    "    D_optim.zero_grad()\n",
    "    loss.backward()\n",
    "    D_optim.step()\n",
    "    return loss.item()"
   ]
  },
  {
   "cell_type": "code",
   "execution_count": 43,
   "metadata": {},
   "outputs": [],
   "source": [
    "def train_vanilla_cond(\n",
    "    train_loader: DataLoader,\n",
    "    G: nn.Module,\n",
    "    D: nn.Module,\n",
    "    G_optim: torch.optim.Optimizer,\n",
    "    D_optim: torch.optim.Optimizer,\n",
    "    discriminator_steps: int,\n",
    "    n_epochs: int,\n",
    "    visualize_steps: int = 10,\n",
    ") -> None:\n",
    "    disc_losses = []\n",
    "    gen_losses = []\n",
    "    G.train()\n",
    "    D.train()\n",
    "    step_i = 0\n",
    "    for epoch_i in tqdm(range(n_epochs)):\n",
    "        for X, labels in train_loader:\n",
    "            X = X.to(DEVICE)\n",
    "            labels = labels.to(DEVICE)\n",
    "\n",
    "            # DISCRIMINATOR UPDATE\n",
    "            d_loss = vanilla_discr_cond_step(X, labels, G, D, D_optim)\n",
    "            disc_losses.append(d_loss)\n",
    "\n",
    "            # GENERATOR UPDATE\n",
    "            if step_i % discriminator_steps == 0:\n",
    "                g_loss = vanilla_gen_cond_step(X, labels, G, D, G_optim)\n",
    "                gen_losses.append(g_loss)\n",
    "            step_i += 1\n",
    "\n",
    "        if visualize_steps and epoch_i % visualize_steps == 0:\n",
    "            with torch.no_grad():\n",
    "                clear_output()\n",
    "                plot_images(X[:10].cpu(), labels[:10].cpu(), \"Dataset samples\")\n",
    "                X_gen = G.sample(10, labels[:10])\n",
    "                plot_images(X_gen.detach().cpu(), labels[:10].cpu(), \"Generated samples\")\n",
    "\n",
    "                print(f\"Epoch: {epoch_i}, G loss: {np.mean(gen_losses)}, D loss: {np.mean(disc_losses)}\")\n",
    "                plot_losses(gen_losses, disc_losses)"
   ]
  },
  {
   "cell_type": "code",
   "execution_count": 44,
   "metadata": {},
   "outputs": [],
   "source": [
    "BATCH_SIZE = 128\n",
    "DISC_STEPS = 1\n",
    "LR = 2e-4\n",
    "N_EPOCHS = 10\n",
    "VIS_STEPS = 1"
   ]
  },
  {
   "cell_type": "code",
   "execution_count": 45,
   "metadata": {},
   "outputs": [],
   "source": [
    "train_mnist_loader = DataLoader(mnist_dataset, batch_size=BATCH_SIZE, shuffle=True)\n",
    "G_cond = ConditionalConvGenerator(num_classes=10).to(DEVICE)\n",
    "D_cond = VanillaConditionalConvDiscriminator(num_classes=10).to(DEVICE)\n",
    "G_cond_optim = torch.optim.RMSprop(G_cond.parameters(), lr=LR)\n",
    "D_cond_optim = torch.optim.RMSprop(D_cond.parameters(), lr=LR)"
   ]
  },
  {
   "cell_type": "code",
   "execution_count": 46,
   "metadata": {},
   "outputs": [],
   "source": [
    "# train_losses = train_vanilla_cond(\n",
    "#     train_mnist_loader,\n",
    "#     G_cond,\n",
    "#     D_cond,\n",
    "#     G_cond_optim,\n",
    "#     D_cond_optim,\n",
    "#     discriminator_steps=DISC_STEPS,\n",
    "#     n_epochs=N_EPOCHS,\n",
    "#     visualize_steps=VIS_STEPS,\n",
    "# )"
   ]
  },
  {
   "cell_type": "code",
   "execution_count": 47,
   "metadata": {},
   "outputs": [],
   "source": [
    "# torch.save(G_cond.state_dict(), \"generator_weights.pth\")\n",
    "# torch.save(D_cond.state_dict(), \"discriminator_weights.pth\")\n",
    "# print(\"Model weights saved.\")"
   ]
  },
  {
   "cell_type": "code",
   "execution_count": 48,
   "metadata": {},
   "outputs": [
    {
     "data": {
      "text/plain": [
       "<All keys matched successfully>"
      ]
     },
     "execution_count": 48,
     "metadata": {},
     "output_type": "execute_result"
    }
   ],
   "source": [
    "sdg = torch.load('generator_weights.pth')\n",
    "sdd = torch.load('discriminator_weights.pth')\n",
    "G_cond.load_state_dict(sdg)\n",
    "D_cond.load_state_dict(sdd)"
   ]
  },
  {
   "cell_type": "markdown",
   "metadata": {},
   "source": [
    "### 3.2 Training class-conditional GANs with Non-saturating GAN loss with $R_1$ regularization (4 points)"
   ]
  },
  {
   "cell_type": "code",
   "execution_count": 49,
   "metadata": {},
   "outputs": [],
   "source": [
    "def ns_gen_step(\n",
    "    X: torch.Tensor, G: nn.Module, D: nn.Module, G_optim: torch.optim.Optimizer, num_classes: int\n",
    ") -> torch.Tensor:\n",
    "    # G.train()\n",
    "    # D.eval()\n",
    "    batch_size = X.size(0)\n",
    "    labels = torch.randint(num_classes, size=(batch_size, ))\n",
    "    X_gen = G.sample(batch_size, labels)\n",
    "    scores_gen = D(X_gen, labels)\n",
    "    loss = F.softplus(-scores_gen).mean()\n",
    "    G_optim.zero_grad()\n",
    "    loss.backward()\n",
    "    G_optim.step()\n",
    "    return loss.item()"
   ]
  },
  {
   "cell_type": "code",
   "execution_count": 83,
   "metadata": {},
   "outputs": [],
   "source": [
    "def ns_discr_step(\n",
    "    X: torch.Tensor,\n",
    "    real_labels: torch.Tensor,\n",
    "    G: nn.Module,\n",
    "    D: nn.Module,\n",
    "    D_optim: torch.optim.Optimizer,\n",
    "    r1_regularizer: float = 1.0,\n",
    ") -> torch.Tensor:\n",
    "    # G.eval()\n",
    "    # D.train()\n",
    "    D_optim.zero_grad()\n",
    "    batch_size = X.size(0)\n",
    "    with torch.no_grad():\n",
    "        X_gen = G.sample(batch_size, real_labels)\n",
    "    X.requires_grad_()\n",
    "    scores_gen = D(X_gen, real_labels)\n",
    "    scores_real = D(X, real_labels)\n",
    "    loss_gen = F.softplus(scores_gen).mean()\n",
    "    loss_real = F.softplus(-scores_real).mean()\n",
    "    scores_real.sum().backward(retain_graph=True, create_graph=True)\n",
    "    gradients = X.grad # the same shape as X\n",
    "    grad_penalty = (\n",
    "        gradients.view(gradients.size(0), -1).norm(2, dim=1) ** 2\n",
    "    ).mean()\n",
    "    D_optim.zero_grad()\n",
    "    loss = loss_gen + loss_real + r1_regularizer * grad_penalty\n",
    "\n",
    "    loss.backward()\n",
    "    D_optim.step()\n",
    "    gradients.detach_() # to avoid memory leak!\n",
    "    return loss.item()"
   ]
  },
  {
   "cell_type": "code",
   "execution_count": 84,
   "metadata": {},
   "outputs": [],
   "source": [
    "def train_ns(\n",
    "    train_loader: DataLoader,\n",
    "    G: nn.Module,\n",
    "    D: nn.Module,\n",
    "    G_optim: torch.optim.Optimizer,\n",
    "    D_optim: torch.optim.Optimizer,\n",
    "    discriminator_steps: int,\n",
    "    n_epochs: int,\n",
    "    r1_regularizer: float = 1.0,\n",
    "    visualize_steps: int = 10,\n",
    ") -> None:\n",
    "    disc_losses = []\n",
    "    gen_losses = []\n",
    "    G.train()\n",
    "    D.train()\n",
    "    step_i = 0\n",
    "    for epoch_i in tqdm(range(n_epochs)):\n",
    "        for X, labels in train_loader:\n",
    "            X = X.to(DEVICE)\n",
    "            labels = labels.to(DEVICE)\n",
    "\n",
    "            # DISCRIMINATOR UPDATE\n",
    "            d_loss = ns_discr_step(X, labels, G, D, D_optim, r1_regularizer)\n",
    "            disc_losses.append(d_loss)\n",
    "\n",
    "            # GENERATOR UPDATE\n",
    "            if step_i % discriminator_steps == 0:\n",
    "                g_loss = ns_gen_step(X, G, D, G_optim, 10)\n",
    "                gen_losses.append(g_loss)\n",
    "            step_i += 1\n",
    "\n",
    "        if visualize_steps and epoch_i % visualize_steps == 0:\n",
    "            with torch.no_grad():\n",
    "                clear_output()\n",
    "                plot_images(X[:10].cpu(), labels[:10].cpu(), \"Dataset samples\")\n",
    "                X_gen = G.sample(10, labels[:10])\n",
    "                plot_images(X_gen.detach().cpu(), labels[:10].cpu(), \"Generated samples\")\n",
    "\n",
    "                print(f\"Epoch: {epoch_i}, G loss: {np.mean(gen_losses)}, D loss: {np.mean(disc_losses)}\")\n",
    "                plot_losses(gen_losses, disc_losses)"
   ]
  },
  {
   "cell_type": "code",
   "execution_count": 85,
   "metadata": {},
   "outputs": [],
   "source": [
    "BATCH_SIZE = 128\n",
    "DISC_STEPS = 1\n",
    "LR = 2e-4\n",
    "R1_REGULARIZER = 0.1\n",
    "N_EPOCHS = 10\n",
    "VIS_STEPS = 1"
   ]
  },
  {
   "cell_type": "code",
   "execution_count": 86,
   "metadata": {},
   "outputs": [],
   "source": [
    "train_mnist_loader = DataLoader(mnist_dataset, batch_size=BATCH_SIZE, shuffle=True)\n",
    "G_NS = ConditionalConvGenerator(num_classes=10).to(DEVICE)\n",
    "D_NS = ConditionalConvDiscriminator(num_classes=10).to(DEVICE)\n",
    "G_NS_optim = torch.optim.RMSprop(G_NS.parameters(), lr=LR)\n",
    "D_NS_optim = torch.optim.RMSprop(D_NS.parameters(), lr=LR)"
   ]
  },
  {
   "cell_type": "code",
   "execution_count": 87,
   "metadata": {},
   "outputs": [
    {
     "data": {
      "image/png": "[encoded data removed]",
      "text/plain": [
       "<Figure size 1000x200 with 10 Axes>"
      ]
     },
     "metadata": {},
     "output_type": "display_data"
    },
    {
     "data": {
      "image/png": "[encoded data removed]",
      "text/plain": [
       "<Figure size 1000x200 with 10 Axes>"
      ]
     },
     "metadata": {},
     "output_type": "display_data"
    },
    {
     "name": "stdout",
     "output_type": "stream",
     "text": [
      "Epoch: 9, G loss: 1.0203248260443463, D loss: 1.2002008405512075\n"
     ]
    },
    {
     "data": {
      "image/png": "[encoded data removed]",
      "text/plain": [
       "<Figure size 1000x300 with 2 Axes>"
      ]
     },
     "metadata": {},
     "output_type": "display_data"
    },
    {
     "name": "stderr",
     "output_type": "stream",
     "text": [
      "100%|██████████| 10/10 [01:07<00:00,  6.73s/it]\n"
     ]
    }
   ],
   "source": [
    "train_losses = train_ns(\n",
    "    train_mnist_loader,\n",
    "    G_NS,\n",
    "    D_NS,\n",
    "    G_NS_optim,\n",
    "    D_NS_optim,\n",
    "    discriminator_steps=DISC_STEPS,\n",
    "    n_epochs=N_EPOCHS,\n",
    "    r1_regularizer=R1_REGULARIZER,\n",
    "    visualize_steps=VIS_STEPS,\n",
    ")"
   ]
  },
  {
   "cell_type": "markdown",
   "metadata": {},
   "source": [
    "## 4. GAN with class-conditional generator and unconditional discriminator (3 points)\n",
    "\n",
    "For this task, you need to:  \n",
    "1. Implement the architecture for an **unconditional discriminator** (1 point);  \n",
    "2. Implement the **training steps and algorithm** (2 points). "
   ]
  },
  {
   "cell_type": "code",
   "execution_count": 88,
   "metadata": {},
   "outputs": [],
   "source": [
    "class ConvDiscriminator(nn.Module):\n",
    "    def __init__(\n",
    "        self,\n",
    "    ) -> None:\n",
    "        super().__init__()\n",
    "        self.n_channels = 64\n",
    "\n",
    "\n",
    "        self.net = nn.Sequential(\n",
    "            nn.Conv2d(1, self.n_channels, kernel_size=3, stride=2, padding=1),\n",
    "            nn.LeakyReLU(0.2, inplace=True),\n",
    "\n",
    "            nn.Conv2d(self.n_channels, 2 * self.n_channels, kernel_size=3, stride=2, padding=1),\n",
    "            nn.BatchNorm2d(2 * self.n_channels),\n",
    "            nn.LeakyReLU(0.2, inplace=True),\n",
    "\n",
    "            nn.Conv2d(2 * self.n_channels, 4 * self.n_channels, kernel_size=3, stride=2, padding=1),\n",
    "            nn.BatchNorm2d(4 * self.n_channels),\n",
    "            nn.LeakyReLU(0.2, inplace=True),\n",
    "        )\n",
    "        self.linear = nn.Linear(4 * self.n_channels * 4 * 4, 1)\n",
    "\n",
    "    def forward(self, x: torch.Tensor) -> torch.Tensor:\n",
    "        batch_size = x.size(0)\n",
    "        x = self.net(x)\n",
    "        x = x.view(batch_size, -1)\n",
    "        logits = self.linear(x)\n",
    "        return logits"
   ]
  },
  {
   "cell_type": "code",
   "execution_count": 89,
   "metadata": {},
   "outputs": [],
   "source": [
    "# class ConvDiscriminator(nn.Module):\n",
    "\n",
    "#     def __init__(self) -> None:\n",
    "#         super().__init__()\n",
    "#         self.n_channels = 64\n",
    "\n",
    "#         self.net = nn.Sequential(\n",
    "#             nn.Conv2d(...)m # YOUR CODE HERE\n",
    "#             nn.LeakyReLU(...), # YOUR CODE HERE\n",
    "#             ... # YOUR CODE HERE\n",
    "#         )\n",
    "#         self.linear = ... # YOUR CODE HERE\n",
    "\n",
    "#     def forward(self, x: torch.Tensor) -> torch.Tensor:\n",
    "#         return ... # YOUR CODE HERE"
   ]
  },
  {
   "cell_type": "code",
   "execution_count": 91,
   "metadata": {},
   "outputs": [],
   "source": [
    "# def ns_gen_step_uncond(\n",
    "#     X: torch.Tensor, G: nn.Module, D: nn.Module, G_optim: torch.optim.Optimizer, num_classes: int\n",
    "# ) -> torch.Tensor:\n",
    "#     # YOUR CODE HERE\n",
    "#     # G.train()\n",
    "#     # D.eval()\n",
    "#     batch_size = X.size(0)\n",
    "#     X_gen = G.sample(batch_size)\n",
    "#     scores_gen = D(X_gen)\n",
    "#     loss = F.softplus(-scores_gen).mean()\n",
    "#     G_optim.zero_grad()\n",
    "#     loss.backward()\n",
    "#     G_optim.step()\n",
    "#     return loss.item()\n",
    "\n",
    "\n",
    "def ns_discr_step_uncond(\n",
    "    X: torch.Tensor,\n",
    "    G: nn.Module,\n",
    "    D: nn.Module,\n",
    "    D_optim: torch.optim.Optimizer,\n",
    "    r1_regularizer: float = 1.0,\n",
    ") -> torch.Tensor:\n",
    "    # G.eval()\n",
    "    # D.train()\n",
    "    D_optim.zero_grad()\n",
    "    batch_size = X.size(0)\n",
    "    with torch.no_grad():\n",
    "        X_gen = G.sample(batch_size)\n",
    "    X.requires_grad_()\n",
    "    scores_gen = D(X_gen)\n",
    "    scores_real = D(X)\n",
    "    loss_gen = F.softplus(scores_gen).mean()\n",
    "    loss_real = F.softplus(-scores_real).mean()\n",
    "    scores_real.sum().backward(retain_graph=True, create_graph=True)\n",
    "    gradients = X.grad # the same shape as X\n",
    "    grad_penalty = (\n",
    "        gradients.view(gradients.size(0), -1).norm(2, dim=1) ** 2\n",
    "    ).mean()\n",
    "    D_optim.zero_grad()\n",
    "    loss = loss_gen + loss_real + r1_regularizer * grad_penalty\n",
    "\n",
    "    loss.backward()\n",
    "    D_optim.step()\n",
    "    gradients.detach_() # to avoid memory leak!\n",
    "    return loss.item()"
   ]
  },
  {
   "cell_type": "code",
   "execution_count": 92,
   "metadata": {},
   "outputs": [],
   "source": [
    "def train_ns_uncond(\n",
    "    train_loader: DataLoader,\n",
    "    G: nn.Module,\n",
    "    D: nn.Module,\n",
    "    G_optim: torch.optim.Optimizer,\n",
    "    D_optim: torch.optim.Optimizer,\n",
    "    discriminator_steps: int,\n",
    "    n_epochs: int,\n",
    "    r1_regularizer: float = 1.0,\n",
    "    visualize_steps: int = 10,\n",
    ") -> None:\n",
    "    disc_losses = []\n",
    "    gen_losses = []\n",
    "    G.train()\n",
    "    D.train()\n",
    "    step_i = 0\n",
    "    for epoch_i in tqdm(range(n_epochs)):\n",
    "        for X, labels in train_loader:\n",
    "            X = X.to(DEVICE)\n",
    "            labels = labels.to(DEVICE)\n",
    "\n",
    "            # DISCRIMINATOR UPDATE\n",
    "            d_loss = ns_discr_step_uncond(X, G, D, D_optim, r1_regularizer)\n",
    "            disc_losses.append(d_loss)\n",
    "\n",
    "            # GENERATOR UPDATE\n",
    "            if step_i % discriminator_steps == 0:\n",
    "                g_loss = ns_gen_step(X, G, D, G_optim, 10)\n",
    "                gen_losses.append(g_loss)\n",
    "            step_i += 1\n",
    "\n",
    "        if visualize_steps and epoch_i % visualize_steps == 0:\n",
    "            with torch.no_grad():\n",
    "                clear_output()\n",
    "                plot_images(X[:10].cpu(), labels[:10].cpu(), \"Dataset samples\")\n",
    "                X_gen = G.sample(10, labels[:10])\n",
    "                plot_images(X_gen.detach().cpu(), labels[:10].cpu(), \"Generated samples\")\n",
    "\n",
    "                print(f\"Epoch: {epoch_i}, G loss: {np.mean(gen_losses)}, D loss: {np.mean(disc_losses)}\")\n",
    "                plot_losses(gen_losses, disc_losses)"
   ]
  },
  {
   "cell_type": "code",
   "execution_count": 93,
   "metadata": {},
   "outputs": [],
   "source": [
    "BATCH_SIZE = 128\n",
    "DISC_STEPS = 1\n",
    "LR = 2e-4\n",
    "R1_REGULARIZER = 0.1\n",
    "N_EPOCHS = 10\n",
    "VIS_STEPS = 1"
   ]
  },
  {
   "cell_type": "code",
   "execution_count": 94,
   "metadata": {},
   "outputs": [],
   "source": [
    "train_mnist_loader = DataLoader(mnist_dataset, batch_size=BATCH_SIZE, shuffle=True)\n",
    "G_UNCOND = ConditionalConvGenerator(num_classes=10).to(DEVICE)\n",
    "D_UNCOND = ConvDiscriminator().to(DEVICE)\n",
    "G_UNCOND_optim = torch.optim.RMSprop(G_UNCOND.parameters(), lr=LR)\n",
    "D_UNCOND_optim = torch.optim.RMSprop(D_UNCOND.parameters(), lr=LR)"
   ]
  },
  {
   "cell_type": "code",
   "execution_count": 95,
   "metadata": {},
   "outputs": [
    {
     "name": "stderr",
     "output_type": "stream",
     "text": [
      "  0%|          | 0/10 [00:00<?, ?it/s]\n"
     ]
    },
    {
     "ename": "TypeError",
     "evalue": "ConditionalConvGenerator.sample() missing 1 required positional argument: 'labels'",
     "output_type": "error",
     "traceback": [
      "\u001b[0;31m---------------------------------------------------------------------------\u001b[0m",
      "\u001b[0;31mTypeError\u001b[0m                                 Traceback (most recent call last)",
      "Cell \u001b[0;32mIn[95], line 1\u001b[0m\n\u001b[0;32m----> 1\u001b[0m train_losses \u001b[38;5;241m=\u001b[39m \u001b[43mtrain_ns_uncond\u001b[49m\u001b[43m(\u001b[49m\n\u001b[1;32m      2\u001b[0m \u001b[43m    \u001b[49m\u001b[43mtrain_mnist_loader\u001b[49m\u001b[43m,\u001b[49m\n\u001b[1;32m      3\u001b[0m \u001b[43m    \u001b[49m\u001b[43mG_UNCOND\u001b[49m\u001b[43m,\u001b[49m\n\u001b[1;32m      4\u001b[0m \u001b[43m    \u001b[49m\u001b[43mD_UNCOND\u001b[49m\u001b[43m,\u001b[49m\n\u001b[1;32m      5\u001b[0m \u001b[43m    \u001b[49m\u001b[43mG_UNCOND_optim\u001b[49m\u001b[43m,\u001b[49m\n\u001b[1;32m      6\u001b[0m \u001b[43m    \u001b[49m\u001b[43mD_UNCOND_optim\u001b[49m\u001b[43m,\u001b[49m\n\u001b[1;32m      7\u001b[0m \u001b[43m    \u001b[49m\u001b[43mdiscriminator_steps\u001b[49m\u001b[38;5;241;43m=\u001b[39;49m\u001b[43mDISC_STEPS\u001b[49m\u001b[43m,\u001b[49m\n\u001b[1;32m      8\u001b[0m \u001b[43m    \u001b[49m\u001b[43mn_epochs\u001b[49m\u001b[38;5;241;43m=\u001b[39;49m\u001b[43mN_EPOCHS\u001b[49m\u001b[43m,\u001b[49m\n\u001b[1;32m      9\u001b[0m \u001b[43m    \u001b[49m\u001b[43mr1_regularizer\u001b[49m\u001b[38;5;241;43m=\u001b[39;49m\u001b[43mR1_REGULARIZER\u001b[49m\u001b[43m,\u001b[49m\n\u001b[1;32m     10\u001b[0m \u001b[43m    \u001b[49m\u001b[43mvisualize_steps\u001b[49m\u001b[38;5;241;43m=\u001b[39;49m\u001b[43mVIS_STEPS\u001b[49m\u001b[43m,\u001b[49m\n\u001b[1;32m     11\u001b[0m \u001b[43m)\u001b[49m\n",
      "Cell \u001b[0;32mIn[92], line 23\u001b[0m, in \u001b[0;36mtrain_ns_uncond\u001b[0;34m(train_loader, G, D, G_optim, D_optim, discriminator_steps, n_epochs, r1_regularizer, visualize_steps)\u001b[0m\n\u001b[1;32m     20\u001b[0m labels \u001b[38;5;241m=\u001b[39m labels\u001b[38;5;241m.\u001b[39mto(DEVICE)\n\u001b[1;32m     22\u001b[0m \u001b[38;5;66;03m# DISCRIMINATOR UPDATE\u001b[39;00m\n\u001b[0;32m---> 23\u001b[0m d_loss \u001b[38;5;241m=\u001b[39m \u001b[43mns_discr_step_uncond\u001b[49m\u001b[43m(\u001b[49m\u001b[43mX\u001b[49m\u001b[43m,\u001b[49m\u001b[43m \u001b[49m\u001b[43mG\u001b[49m\u001b[43m,\u001b[49m\u001b[43m \u001b[49m\u001b[43mD\u001b[49m\u001b[43m,\u001b[49m\u001b[43m \u001b[49m\u001b[43mD_optim\u001b[49m\u001b[43m,\u001b[49m\u001b[43m \u001b[49m\u001b[43mr1_regularizer\u001b[49m\u001b[43m)\u001b[49m\n\u001b[1;32m     24\u001b[0m disc_losses\u001b[38;5;241m.\u001b[39mappend(d_loss)\n\u001b[1;32m     26\u001b[0m \u001b[38;5;66;03m# GENERATOR UPDATE\u001b[39;00m\n",
      "Cell \u001b[0;32mIn[91], line 29\u001b[0m, in \u001b[0;36mns_discr_step_uncond\u001b[0;34m(X, G, D, D_optim, r1_regularizer)\u001b[0m\n\u001b[1;32m     27\u001b[0m batch_size \u001b[38;5;241m=\u001b[39m X\u001b[38;5;241m.\u001b[39msize(\u001b[38;5;241m0\u001b[39m)\n\u001b[1;32m     28\u001b[0m \u001b[38;5;28;01mwith\u001b[39;00m torch\u001b[38;5;241m.\u001b[39mno_grad():\n\u001b[0;32m---> 29\u001b[0m     X_gen \u001b[38;5;241m=\u001b[39m \u001b[43mG\u001b[49m\u001b[38;5;241;43m.\u001b[39;49m\u001b[43msample\u001b[49m\u001b[43m(\u001b[49m\u001b[43mbatch_size\u001b[49m\u001b[43m)\u001b[49m\n\u001b[1;32m     30\u001b[0m X\u001b[38;5;241m.\u001b[39mrequires_grad_()\n\u001b[1;32m     31\u001b[0m scores_gen \u001b[38;5;241m=\u001b[39m D(X_gen)\n",
      "\u001b[0;31mTypeError\u001b[0m: ConditionalConvGenerator.sample() missing 1 required positional argument: 'labels'"
     ]
    }
   ],
   "source": [
    "train_losses = train_ns_uncond(\n",
    "    train_mnist_loader,\n",
    "    G_UNCOND,\n",
    "    D_UNCOND,\n",
    "    G_UNCOND_optim,\n",
    "    D_UNCOND_optim,\n",
    "    discriminator_steps=DISC_STEPS,\n",
    "    n_epochs=N_EPOCHS,\n",
    "    r1_regularizer=R1_REGULARIZER,\n",
    "    visualize_steps=VIS_STEPS,\n",
    ")"
   ]
  },
  {
   "cell_type": "markdown",
   "metadata": {},
   "source": [
    "## 5. Evaluation of Model Results (6 points)  \n",
    "In this task, you need to evaluate the performance of each trained model **on the MNIST test subset**.  "
   ]
  },
  {
   "cell_type": "markdown",
   "metadata": {},
   "source": [
    "### 5.1 Qualitative Evaluation (1 point)  \n",
    "\n",
    "Visualize **class-conditional generation** from models with a **conditional discriminator**, specifying the class label, trained using:  \n",
    "- **Vanilla GAN loss** \n",
    "- **NS-GAN loss (with $R_1$ regularization)** \n",
    "- **Class-conditional generation** from model with an **unconditional discriminator**"
   ]
  },
  {
   "cell_type": "code",
   "execution_count": null,
   "metadata": {},
   "outputs": [],
   "source": [
    "transform = ... # YOUR CODE HERE\n",
    "\n",
    "test_dataset = ... # YOUR CODE HERE"
   ]
  },
  {
   "cell_type": "code",
   "execution_count": null,
   "metadata": {},
   "outputs": [],
   "source": [
    "dataloader = ... # YOUR CODE HERE"
   ]
  },
  {
   "cell_type": "code",
   "execution_count": 34,
   "metadata": {},
   "outputs": [
    {
     "data": {
      "image/png": "[encoded data removed]",
      "text/plain": [
       "<Figure size 1000x200 with 10 Axes>"
      ]
     },
     "metadata": {},
     "output_type": "display_data"
    }
   ],
   "source": [
    "X, labels = next(iter(dataloader))\n",
    "plot_images(X[:10].cpu(), labels[:10].cpu(), \"Dataset samples\")"
   ]
  },
  {
   "cell_type": "code",
   "execution_count": 35,
   "metadata": {},
   "outputs": [
    {
     "data": {
      "image/png": "[encoded data removed]",
      "text/plain": [
       "<Figure size 1000x200 with 10 Axes>"
      ]
     },
     "metadata": {},
     "output_type": "display_data"
    }
   ],
   "source": [
    "X_gen_cond = G_cond.sample(10, labels[:10].to(DEVICE))\n",
    "plot_images(X_gen_cond.detach().cpu(), labels[:10].cpu(), \"Vanilla GAN samples\")"
   ]
  },
  {
   "cell_type": "code",
   "execution_count": 36,
   "metadata": {},
   "outputs": [
    {
     "data": {
      "image/png": "[encoded data removed]",
      "text/plain": [
       "<Figure size 1000x200 with 10 Axes>"
      ]
     },
     "metadata": {},
     "output_type": "display_data"
    }
   ],
   "source": [
    "X_gen_ns = G_NS.sample(10, labels[:10].to(DEVICE))\n",
    "plot_images(X_gen_ns.detach().cpu(), labels[:10].cpu(), \"NS GAN samples\")"
   ]
  },
  {
   "cell_type": "code",
   "execution_count": 37,
   "metadata": {},
   "outputs": [
    {
     "data": {
      "image/png": "[encoded data removed]",
      "text/plain": [
       "<Figure size 1000x200 with 10 Axes>"
      ]
     },
     "metadata": {},
     "output_type": "display_data"
    }
   ],
   "source": [
    "X_gen_uncond = G_UNCOND.sample(10, labels[:10].to(DEVICE))\n",
    "plot_images(X_gen_uncond.detach().cpu(), labels[:10].cpu(), \"Unconditional GAN samples\")"
   ]
  },
  {
   "cell_type": "markdown",
   "metadata": {},
   "source": [
    "### 5.2 Quantitative Evaluation (FID) (3 points) \n",
    "\n",
    "You should:\n",
    "- Compute the **Frechet Inception Distance (FID)** for all trained models:  \n",
    "    - Conditional discriminator (Vanilla GAN loss)  \n",
    "    - Conditional discriminator (NS-GAN loss)  \n",
    "    - Unconditional discriminator\n",
    "- Compare FID scores across models to assess which architecture and loss function yield the most realistic generations.\n",
    "\n",
    "Compute FID metrics for `MNIST` images with `torchmetrics` by following these steps:\n",
    "\n",
    "1. **Preprocess images:** Resize to 299×299 and convert from grayscale to RGB by stacking 3 times color channels.\n",
    "2. **Implement FID calculation** using the prepared images"
   ]
  },
  {
   "cell_type": "code",
   "execution_count": null,
   "metadata": {},
   "outputs": [],
   "source": [
    "def preprocess_for_fid(images: torch.Tensor, device: torch.device = DEVICE) -> torch.Tensor:\n",
    "    \"\"\"\n",
    "    Preprocess grayscale [B, 1, H, W] images normalized to [-1, 1] for FID:\n",
    "        1. Scale from [-1, 1] to [0, 1]\n",
    "        2. Convert to RGB by repeating channels\n",
    "        3. Resize to (299, 299)\n",
    "        4. Convert to uint8 in [0, 255]\n",
    "\n",
    "    Returns:\n",
    "        torch.Tensor: Preprocessed images [B, 3, 299, 299] in uint8 format\n",
    "    \"\"\"\n",
    "    if images.dim() == 3:\n",
    "        images = images.unsqueeze(1)  # [B, H, W] -> [B, 1, H, W]\n",
    "\n",
    "    images = ... # YOUR CODE HERE\n",
    "\n",
    "    # Batch operations for efficiency\n",
    "    images = ... # YOUR CODE HERE  # [B, 1, 299, 299]\n",
    "    images = ... # YOUR CODE HERE  # [B, 3, 299, 299] (grayscale->RGB)\n",
    "\n",
    "    # Convert to uint8 and ensure proper range\n",
    "    images = ... # YOUR CODE HERE\n",
    "\n",
    "    return images.to(device)"
   ]
  },
  {
   "cell_type": "code",
   "execution_count": null,
   "metadata": {},
   "outputs": [],
   "source": [
    "@torch.no_grad()\n",
    "def compute_fid(\n",
    "    generator: ConditionalConvGenerator,\n",
    "    loader: DataLoader,\n",
    "    num_features: int = 2048,\n",
    "    device: torch.device = DEVICE,\n",
    ") -> dict[str, float]:\n",
    "    \"\"\"Compute Fréchet Inception Distance (FID) between real and generated samples.\"\"\"\n",
    "    fid = FrechetInceptionDistance(feature=num_features).to(device).eval()\n",
    "\n",
    "    for real_imgs, labels in loader:\n",
    "        batch_size = real_imgs.size(0)\n",
    "\n",
    "        real_imgs = ... # YOUR CODE HERE\n",
    "        labels = labels.to(device)\n",
    "\n",
    "        fake_imgs = ... # YOUR CODE HERE\n",
    "        fake_imgs = ... # YOUR CODE HERE\n",
    "\n",
    "        ... # YOUR CODE HERE\n",
    "\n",
    "    output = fid.compute().detach().item()\n",
    "\n",
    "    fid.reset()\n",
    "\n",
    "    return output"
   ]
  },
  {
   "cell_type": "code",
   "execution_count": 40,
   "metadata": {},
   "outputs": [
    {
     "data": {
      "text/plain": [
       "7.221518039703369"
      ]
     },
     "execution_count": 40,
     "metadata": {},
     "output_type": "execute_result"
    }
   ],
   "source": [
    "fid_cond = compute_fid(G_cond, dataloader)\n",
    "fid_cond"
   ]
  },
  {
   "cell_type": "code",
   "execution_count": 41,
   "metadata": {},
   "outputs": [
    {
     "data": {
      "text/plain": [
       "8.227103233337402"
      ]
     },
     "execution_count": 41,
     "metadata": {},
     "output_type": "execute_result"
    }
   ],
   "source": [
    "fid_NS = compute_fid(G_NS, dataloader)\n",
    "fid_NS"
   ]
  },
  {
   "cell_type": "code",
   "execution_count": null,
   "metadata": {},
   "outputs": [
    {
     "data": {
      "text/plain": [
       "10.90830135345459"
      ]
     },
     "execution_count": 43,
     "metadata": {},
     "output_type": "execute_result"
    }
   ],
   "source": [
    "fid_UNCOND = compute_fid(G_UNCOND, dataloader)\n",
    "fid_UNCOND"
   ]
  },
  {
   "cell_type": "markdown",
   "metadata": {},
   "source": [
    "### 5.3 Summary & Conclusions (2 points)\n",
    "- Do the results differ between **Vanilla GAN loss** and **NS-GAN ($R_1$) loss**?  \n",
    "- Do the results differ when using a **class-conditional discriminator** vs. an **unconditional discriminator**?  \n",
    "- Based on both **visual inspection** and **FID scores**, justify which approach performs best.  \n",
    "\n",
    "**Reporting**: Include FID values in a table for clear comparison. \n",
    "Example:  \n",
    "\n",
    "| Model Type               | Loss Function       | FID Score ($\\downarrow$ better) |  \n",
    "|--------------------------|---------------------|----------------------|  \n",
    "| Conditional Discriminator | Vanilla GAN         | 7.2                 |  \n",
    "| Conditional Discriminator | NS-GAN ($R_1$)         | 8.2                 |  \n",
    "| Unconditional Discriminator | NS-GAN ($R_1$)      | 10.9                |  \n",
    "\n",
    "**Observations:** YOU OBSERVATIONS HERE."
   ]
  }
 ],
 "metadata": {
  "accelerator": "GPU",
  "colab": {
   "gpuType": "T4",
   "provenance": []
  },
  "kernelspec": {
   "display_name": ".venv",
   "language": "python",
   "name": "python3"
  },
  "language_info": {
   "codemirror_mode": {
    "name": "ipython",
    "version": 3
   },
   "file_extension": ".py",
   "mimetype": "text/x-python",
   "name": "python",
   "nbconvert_exporter": "python",
   "pygments_lexer": "ipython3",
   "version": "3.10.16"
  }
 },
 "nbformat": 4,
 "nbformat_minor": 1
}
